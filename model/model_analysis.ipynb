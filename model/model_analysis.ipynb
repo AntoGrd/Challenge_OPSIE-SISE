{
 "cells": [
  {
   "cell_type": "code",
   "execution_count": 1,
   "metadata": {},
   "outputs": [],
   "source": [
    "import pandas as pd\n",
    "import numpy as np\n"
   ]
  },
  {
   "cell_type": "code",
   "execution_count": 2,
   "metadata": {},
   "outputs": [],
   "source": [
    "log_data = pd.read_csv('C:/Users/hugou/Downloads/challenge-2023/challenge-2023/données/log_fw_3.csv/log_fw_3.csv', sep=';', header=None)"
   ]
  },
  {
   "cell_type": "code",
   "execution_count": 3,
   "metadata": {},
   "outputs": [
    {
     "name": "stdout",
     "output_type": "stream",
     "text": [
      "<class 'pandas.core.frame.DataFrame'>\n",
      "RangeIndex: 1000000 entries, 0 to 999999\n",
      "Data columns (total 11 columns):\n",
      " #   Column  Non-Null Count    Dtype  \n",
      "---  ------  --------------    -----  \n",
      " 0   0       1000000 non-null  object \n",
      " 1   1       999998 non-null   object \n",
      " 2   2       999998 non-null   object \n",
      " 3   3       999998 non-null   object \n",
      " 4   4       999998 non-null   float64\n",
      " 5   5       999998 non-null   float64\n",
      " 6   6       999998 non-null   float64\n",
      " 7   7       999998 non-null   object \n",
      " 8   8       999998 non-null   object \n",
      " 9   9       0 non-null        float64\n",
      " 10  10      999998 non-null   float64\n",
      "dtypes: float64(5), object(6)\n",
      "memory usage: 83.9+ MB\n"
     ]
    }
   ],
   "source": [
    "log_data.info()"
   ]
  },
  {
   "cell_type": "code",
   "execution_count": 4,
   "metadata": {},
   "outputs": [],
   "source": [
    "def to_datetime(x):\n",
    "    return pd.to_datetime(x, format='%Y-%m-%d %H:%M:%S.%f')\n",
    "\n",
    "def prepare_log_data(log_data):\n",
    "    log_data.columns = ['timestamp', 'IPsrc', 'IPdst', 'proto', 'portsrc', 'portdst', 'rule','action','7', '8','9']\n",
    "    log_data.timestamp = to_datetime(log_data.timestamp)\n",
    "    log_data.portdst = log_data.portdst.astype('object')\n",
    "    log_data['port_type'] = log_data['portdst'].apply(lambda x: 'wk' if x < 1024 else ('reg' if x >= 1024 and x <= 49151 else 'priv'))\n",
    "    return log_data"
   ]
  },
  {
   "cell_type": "code",
   "execution_count": 5,
   "metadata": {},
   "outputs": [
    {
     "data": {
      "text/html": [
       "<div>\n",
       "<style scoped>\n",
       "    .dataframe tbody tr th:only-of-type {\n",
       "        vertical-align: middle;\n",
       "    }\n",
       "\n",
       "    .dataframe tbody tr th {\n",
       "        vertical-align: top;\n",
       "    }\n",
       "\n",
       "    .dataframe thead th {\n",
       "        text-align: right;\n",
       "    }\n",
       "</style>\n",
       "<table border=\"1\" class=\"dataframe\">\n",
       "  <thead>\n",
       "    <tr style=\"text-align: right;\">\n",
       "      <th></th>\n",
       "      <th>timestamp</th>\n",
       "      <th>IPsrc</th>\n",
       "      <th>IPdst</th>\n",
       "      <th>proto</th>\n",
       "      <th>portsrc</th>\n",
       "      <th>portdst</th>\n",
       "      <th>rule</th>\n",
       "      <th>action</th>\n",
       "      <th>7</th>\n",
       "      <th>8</th>\n",
       "      <th>9</th>\n",
       "      <th>port_type</th>\n",
       "    </tr>\n",
       "  </thead>\n",
       "  <tbody>\n",
       "    <tr>\n",
       "      <th>0</th>\n",
       "      <td>2023-02-12 03:59:03</td>\n",
       "      <td>66.249.69.180</td>\n",
       "      <td>17.17.17.17</td>\n",
       "      <td>TCP</td>\n",
       "      <td>57630.0</td>\n",
       "      <td>443.0</td>\n",
       "      <td>1.0</td>\n",
       "      <td>PERMIT</td>\n",
       "      <td>eth0</td>\n",
       "      <td>NaN</td>\n",
       "      <td>6.0</td>\n",
       "      <td>wk</td>\n",
       "    </tr>\n",
       "    <tr>\n",
       "      <th>1</th>\n",
       "      <td>2023-02-12 03:59:04</td>\n",
       "      <td>66.249.69.178</td>\n",
       "      <td>17.17.17.17</td>\n",
       "      <td>TCP</td>\n",
       "      <td>63808.0</td>\n",
       "      <td>443.0</td>\n",
       "      <td>1.0</td>\n",
       "      <td>PERMIT</td>\n",
       "      <td>eth0</td>\n",
       "      <td>NaN</td>\n",
       "      <td>6.0</td>\n",
       "      <td>wk</td>\n",
       "    </tr>\n",
       "    <tr>\n",
       "      <th>2</th>\n",
       "      <td>2023-02-12 03:59:08</td>\n",
       "      <td>221.11.125.141</td>\n",
       "      <td>17.17.17.17</td>\n",
       "      <td>TCP</td>\n",
       "      <td>43123.0</td>\n",
       "      <td>2376.0</td>\n",
       "      <td>999.0</td>\n",
       "      <td>DENY</td>\n",
       "      <td>eth0</td>\n",
       "      <td>NaN</td>\n",
       "      <td>6.0</td>\n",
       "      <td>reg</td>\n",
       "    </tr>\n",
       "    <tr>\n",
       "      <th>3</th>\n",
       "      <td>2023-02-12 03:59:18</td>\n",
       "      <td>183.136.225.42</td>\n",
       "      <td>17.17.17.17</td>\n",
       "      <td>TCP</td>\n",
       "      <td>8088.0</td>\n",
       "      <td>70.0</td>\n",
       "      <td>999.0</td>\n",
       "      <td>DENY</td>\n",
       "      <td>eth0</td>\n",
       "      <td>NaN</td>\n",
       "      <td>6.0</td>\n",
       "      <td>wk</td>\n",
       "    </tr>\n",
       "    <tr>\n",
       "      <th>4</th>\n",
       "      <td>2023-02-12 03:59:20</td>\n",
       "      <td>38.32.112.34</td>\n",
       "      <td>17.17.17.17</td>\n",
       "      <td>TCP</td>\n",
       "      <td>6356.0</td>\n",
       "      <td>443.0</td>\n",
       "      <td>1.0</td>\n",
       "      <td>PERMIT</td>\n",
       "      <td>eth0</td>\n",
       "      <td>NaN</td>\n",
       "      <td>6.0</td>\n",
       "      <td>wk</td>\n",
       "    </tr>\n",
       "  </tbody>\n",
       "</table>\n",
       "</div>"
      ],
      "text/plain": [
       "            timestamp           IPsrc        IPdst proto  portsrc portdst  \\\n",
       "0 2023-02-12 03:59:03   66.249.69.180  17.17.17.17   TCP  57630.0   443.0   \n",
       "1 2023-02-12 03:59:04   66.249.69.178  17.17.17.17   TCP  63808.0   443.0   \n",
       "2 2023-02-12 03:59:08  221.11.125.141  17.17.17.17   TCP  43123.0  2376.0   \n",
       "3 2023-02-12 03:59:18  183.136.225.42  17.17.17.17   TCP   8088.0    70.0   \n",
       "4 2023-02-12 03:59:20    38.32.112.34  17.17.17.17   TCP   6356.0   443.0   \n",
       "\n",
       "    rule  action     7   8    9 port_type  \n",
       "0    1.0  PERMIT  eth0 NaN  6.0        wk  \n",
       "1    1.0  PERMIT  eth0 NaN  6.0        wk  \n",
       "2  999.0    DENY  eth0 NaN  6.0       reg  \n",
       "3  999.0    DENY  eth0 NaN  6.0        wk  \n",
       "4    1.0  PERMIT  eth0 NaN  6.0        wk  "
      ]
     },
     "execution_count": 5,
     "metadata": {},
     "output_type": "execute_result"
    }
   ],
   "source": [
    "prepare_log_data(log_data)\n",
    "log_data.head()"
   ]
  },
  {
   "cell_type": "code",
   "execution_count": 5,
   "metadata": {},
   "outputs": [
    {
     "data": {
      "text/plain": [
       "TCP    999998\n",
       "Name: 3, dtype: int64"
      ]
     },
     "execution_count": 5,
     "metadata": {},
     "output_type": "execute_result"
    }
   ],
   "source": [
    "log_data[3].value_counts()\n",
    "\n"
   ]
  },
  {
   "cell_type": "code",
   "execution_count": 65,
   "metadata": {},
   "outputs": [],
   "source": [
    "def to_datetime(x):\n",
    "    return pd.to_datetime(x, format='%Y-%m-%d %H:%M:%S.%f')\n",
    "\n",
    "def prepare_log_data(log_data):\n",
    "    log_data.columns = ['timestamp', 'IPsrc', 'IPdst', 'proto', 'portsrc', 'portdst', 'rule','action','7', '8','9']\n",
    "    log_data.timestamp = to_datetime(log_data.timestamp)\n",
    "    log_data.portdst = log_data.portdst.astype('object')\n",
    "    return log_data"
   ]
  },
  {
   "cell_type": "code",
   "execution_count": 8,
   "metadata": {},
   "outputs": [],
   "source": [
    "data = log_data.copy()"
   ]
  },
  {
   "cell_type": "code",
   "execution_count": 9,
   "metadata": {},
   "outputs": [
    {
     "data": {
      "text/plain": [
       "0        NaN\n",
       "1        NaN\n",
       "2        NaN\n",
       "3        NaN\n",
       "4        NaN\n",
       "          ..\n",
       "999995   NaN\n",
       "999996   NaN\n",
       "999997   NaN\n",
       "999998   NaN\n",
       "999999   NaN\n",
       "Name: 8, Length: 1000000, dtype: float64"
      ]
     },
     "execution_count": 9,
     "metadata": {},
     "output_type": "execute_result"
    }
   ],
   "source": [
    "data.pop('8')"
   ]
  },
  {
   "cell_type": "code",
   "execution_count": 10,
   "metadata": {},
   "outputs": [
    {
     "data": {
      "text/html": [
       "<div>\n",
       "<style scoped>\n",
       "    .dataframe tbody tr th:only-of-type {\n",
       "        vertical-align: middle;\n",
       "    }\n",
       "\n",
       "    .dataframe tbody tr th {\n",
       "        vertical-align: top;\n",
       "    }\n",
       "\n",
       "    .dataframe thead th {\n",
       "        text-align: right;\n",
       "    }\n",
       "</style>\n",
       "<table border=\"1\" class=\"dataframe\">\n",
       "  <thead>\n",
       "    <tr style=\"text-align: right;\">\n",
       "      <th></th>\n",
       "      <th>timestamp</th>\n",
       "      <th>IPsrc</th>\n",
       "      <th>IPdst</th>\n",
       "      <th>proto</th>\n",
       "      <th>portsrc</th>\n",
       "      <th>portdst</th>\n",
       "      <th>rule</th>\n",
       "      <th>action</th>\n",
       "      <th>7</th>\n",
       "      <th>9</th>\n",
       "      <th>port_type</th>\n",
       "    </tr>\n",
       "  </thead>\n",
       "  <tbody>\n",
       "    <tr>\n",
       "      <th>0</th>\n",
       "      <td>2023-02-12 03:59:03</td>\n",
       "      <td>66.249.69.180</td>\n",
       "      <td>17.17.17.17</td>\n",
       "      <td>TCP</td>\n",
       "      <td>57630.0</td>\n",
       "      <td>443.0</td>\n",
       "      <td>1.0</td>\n",
       "      <td>PERMIT</td>\n",
       "      <td>eth0</td>\n",
       "      <td>6.0</td>\n",
       "      <td>wk</td>\n",
       "    </tr>\n",
       "    <tr>\n",
       "      <th>1</th>\n",
       "      <td>2023-02-12 03:59:04</td>\n",
       "      <td>66.249.69.178</td>\n",
       "      <td>17.17.17.17</td>\n",
       "      <td>TCP</td>\n",
       "      <td>63808.0</td>\n",
       "      <td>443.0</td>\n",
       "      <td>1.0</td>\n",
       "      <td>PERMIT</td>\n",
       "      <td>eth0</td>\n",
       "      <td>6.0</td>\n",
       "      <td>wk</td>\n",
       "    </tr>\n",
       "    <tr>\n",
       "      <th>2</th>\n",
       "      <td>2023-02-12 03:59:08</td>\n",
       "      <td>221.11.125.141</td>\n",
       "      <td>17.17.17.17</td>\n",
       "      <td>TCP</td>\n",
       "      <td>43123.0</td>\n",
       "      <td>2376.0</td>\n",
       "      <td>999.0</td>\n",
       "      <td>DENY</td>\n",
       "      <td>eth0</td>\n",
       "      <td>6.0</td>\n",
       "      <td>reg</td>\n",
       "    </tr>\n",
       "    <tr>\n",
       "      <th>3</th>\n",
       "      <td>2023-02-12 03:59:18</td>\n",
       "      <td>183.136.225.42</td>\n",
       "      <td>17.17.17.17</td>\n",
       "      <td>TCP</td>\n",
       "      <td>8088.0</td>\n",
       "      <td>70.0</td>\n",
       "      <td>999.0</td>\n",
       "      <td>DENY</td>\n",
       "      <td>eth0</td>\n",
       "      <td>6.0</td>\n",
       "      <td>wk</td>\n",
       "    </tr>\n",
       "    <tr>\n",
       "      <th>4</th>\n",
       "      <td>2023-02-12 03:59:20</td>\n",
       "      <td>38.32.112.34</td>\n",
       "      <td>17.17.17.17</td>\n",
       "      <td>TCP</td>\n",
       "      <td>6356.0</td>\n",
       "      <td>443.0</td>\n",
       "      <td>1.0</td>\n",
       "      <td>PERMIT</td>\n",
       "      <td>eth0</td>\n",
       "      <td>6.0</td>\n",
       "      <td>wk</td>\n",
       "    </tr>\n",
       "    <tr>\n",
       "      <th>5</th>\n",
       "      <td>2023-02-12 03:59:22</td>\n",
       "      <td>45.125.66.18</td>\n",
       "      <td>17.17.17.17</td>\n",
       "      <td>TCP</td>\n",
       "      <td>58438.0</td>\n",
       "      <td>23.0</td>\n",
       "      <td>7.0</td>\n",
       "      <td>DENY</td>\n",
       "      <td>eth0</td>\n",
       "      <td>6.0</td>\n",
       "      <td>wk</td>\n",
       "    </tr>\n",
       "    <tr>\n",
       "      <th>6</th>\n",
       "      <td>2023-02-12 03:59:29</td>\n",
       "      <td>107.170.242.5</td>\n",
       "      <td>17.17.17.17</td>\n",
       "      <td>TCP</td>\n",
       "      <td>39974.0</td>\n",
       "      <td>5093.0</td>\n",
       "      <td>999.0</td>\n",
       "      <td>DENY</td>\n",
       "      <td>eth0</td>\n",
       "      <td>6.0</td>\n",
       "      <td>reg</td>\n",
       "    </tr>\n",
       "    <tr>\n",
       "      <th>7</th>\n",
       "      <td>2023-02-12 03:59:33</td>\n",
       "      <td>45.93.16.171</td>\n",
       "      <td>17.17.17.17</td>\n",
       "      <td>TCP</td>\n",
       "      <td>42021.0</td>\n",
       "      <td>50802.0</td>\n",
       "      <td>999.0</td>\n",
       "      <td>DENY</td>\n",
       "      <td>eth0</td>\n",
       "      <td>6.0</td>\n",
       "      <td>priv</td>\n",
       "    </tr>\n",
       "    <tr>\n",
       "      <th>8</th>\n",
       "      <td>2023-02-12 03:59:35</td>\n",
       "      <td>157.55.39.59</td>\n",
       "      <td>17.17.17.17</td>\n",
       "      <td>TCP</td>\n",
       "      <td>45120.0</td>\n",
       "      <td>443.0</td>\n",
       "      <td>1.0</td>\n",
       "      <td>PERMIT</td>\n",
       "      <td>eth0</td>\n",
       "      <td>6.0</td>\n",
       "      <td>wk</td>\n",
       "    </tr>\n",
       "    <tr>\n",
       "      <th>9</th>\n",
       "      <td>2023-02-12 03:59:39</td>\n",
       "      <td>104.156.155.11</td>\n",
       "      <td>17.17.17.17</td>\n",
       "      <td>TCP</td>\n",
       "      <td>58728.0</td>\n",
       "      <td>9109.0</td>\n",
       "      <td>999.0</td>\n",
       "      <td>DENY</td>\n",
       "      <td>eth0</td>\n",
       "      <td>6.0</td>\n",
       "      <td>reg</td>\n",
       "    </tr>\n",
       "  </tbody>\n",
       "</table>\n",
       "</div>"
      ],
      "text/plain": [
       "            timestamp           IPsrc        IPdst proto  portsrc  portdst  \\\n",
       "0 2023-02-12 03:59:03   66.249.69.180  17.17.17.17   TCP  57630.0    443.0   \n",
       "1 2023-02-12 03:59:04   66.249.69.178  17.17.17.17   TCP  63808.0    443.0   \n",
       "2 2023-02-12 03:59:08  221.11.125.141  17.17.17.17   TCP  43123.0   2376.0   \n",
       "3 2023-02-12 03:59:18  183.136.225.42  17.17.17.17   TCP   8088.0     70.0   \n",
       "4 2023-02-12 03:59:20    38.32.112.34  17.17.17.17   TCP   6356.0    443.0   \n",
       "5 2023-02-12 03:59:22    45.125.66.18  17.17.17.17   TCP  58438.0     23.0   \n",
       "6 2023-02-12 03:59:29   107.170.242.5  17.17.17.17   TCP  39974.0   5093.0   \n",
       "7 2023-02-12 03:59:33    45.93.16.171  17.17.17.17   TCP  42021.0  50802.0   \n",
       "8 2023-02-12 03:59:35    157.55.39.59  17.17.17.17   TCP  45120.0    443.0   \n",
       "9 2023-02-12 03:59:39  104.156.155.11  17.17.17.17   TCP  58728.0   9109.0   \n",
       "\n",
       "    rule  action     7    9 port_type  \n",
       "0    1.0  PERMIT  eth0  6.0        wk  \n",
       "1    1.0  PERMIT  eth0  6.0        wk  \n",
       "2  999.0    DENY  eth0  6.0       reg  \n",
       "3  999.0    DENY  eth0  6.0        wk  \n",
       "4    1.0  PERMIT  eth0  6.0        wk  \n",
       "5    7.0    DENY  eth0  6.0        wk  \n",
       "6  999.0    DENY  eth0  6.0       reg  \n",
       "7  999.0    DENY  eth0  6.0      priv  \n",
       "8    1.0  PERMIT  eth0  6.0        wk  \n",
       "9  999.0    DENY  eth0  6.0       reg  "
      ]
     },
     "execution_count": 10,
     "metadata": {},
     "output_type": "execute_result"
    }
   ],
   "source": [
    "data.head(10)"
   ]
  },
  {
   "cell_type": "code",
   "execution_count": 11,
   "metadata": {},
   "outputs": [],
   "source": [
    "data.portsrc = data.portsrc.astype('object')"
   ]
  },
  {
   "cell_type": "code",
   "execution_count": 12,
   "metadata": {},
   "outputs": [
    {
     "data": {
      "text/plain": [
       "timestamp    datetime64[ns]\n",
       "IPsrc                object\n",
       "IPdst                object\n",
       "proto                object\n",
       "portsrc              object\n",
       "portdst              object\n",
       "rule                float64\n",
       "action               object\n",
       "7                    object\n",
       "9                   float64\n",
       "port_type            object\n",
       "dtype: object"
      ]
     },
     "execution_count": 12,
     "metadata": {},
     "output_type": "execute_result"
    }
   ],
   "source": [
    "data.dtypes"
   ]
  },
  {
   "cell_type": "code",
   "execution_count": 13,
   "metadata": {},
   "outputs": [],
   "source": [
    "data.dropna(inplace=True)"
   ]
  },
  {
   "cell_type": "code",
   "execution_count": 14,
   "metadata": {},
   "outputs": [
    {
     "data": {
      "text/html": [
       "<div>\n",
       "<style scoped>\n",
       "    .dataframe tbody tr th:only-of-type {\n",
       "        vertical-align: middle;\n",
       "    }\n",
       "\n",
       "    .dataframe tbody tr th {\n",
       "        vertical-align: top;\n",
       "    }\n",
       "\n",
       "    .dataframe thead th {\n",
       "        text-align: right;\n",
       "    }\n",
       "</style>\n",
       "<table border=\"1\" class=\"dataframe\">\n",
       "  <thead>\n",
       "    <tr style=\"text-align: right;\">\n",
       "      <th></th>\n",
       "      <th>timestamp</th>\n",
       "      <th>IPsrc</th>\n",
       "      <th>IPdst</th>\n",
       "      <th>proto</th>\n",
       "      <th>portsrc</th>\n",
       "      <th>portdst</th>\n",
       "      <th>rule</th>\n",
       "      <th>action</th>\n",
       "      <th>7</th>\n",
       "      <th>9</th>\n",
       "      <th>port_type</th>\n",
       "    </tr>\n",
       "  </thead>\n",
       "  <tbody>\n",
       "    <tr>\n",
       "      <th>0</th>\n",
       "      <td>2023-02-12 03:59:03</td>\n",
       "      <td>66.249.69.180</td>\n",
       "      <td>17.17.17.17</td>\n",
       "      <td>TCP</td>\n",
       "      <td>57630.0</td>\n",
       "      <td>443.0</td>\n",
       "      <td>1.0</td>\n",
       "      <td>PERMIT</td>\n",
       "      <td>eth0</td>\n",
       "      <td>6.0</td>\n",
       "      <td>wk</td>\n",
       "    </tr>\n",
       "    <tr>\n",
       "      <th>1</th>\n",
       "      <td>2023-02-12 03:59:04</td>\n",
       "      <td>66.249.69.178</td>\n",
       "      <td>17.17.17.17</td>\n",
       "      <td>TCP</td>\n",
       "      <td>63808.0</td>\n",
       "      <td>443.0</td>\n",
       "      <td>1.0</td>\n",
       "      <td>PERMIT</td>\n",
       "      <td>eth0</td>\n",
       "      <td>6.0</td>\n",
       "      <td>wk</td>\n",
       "    </tr>\n",
       "    <tr>\n",
       "      <th>2</th>\n",
       "      <td>2023-02-12 03:59:08</td>\n",
       "      <td>221.11.125.141</td>\n",
       "      <td>17.17.17.17</td>\n",
       "      <td>TCP</td>\n",
       "      <td>43123.0</td>\n",
       "      <td>2376.0</td>\n",
       "      <td>999.0</td>\n",
       "      <td>DENY</td>\n",
       "      <td>eth0</td>\n",
       "      <td>6.0</td>\n",
       "      <td>reg</td>\n",
       "    </tr>\n",
       "    <tr>\n",
       "      <th>3</th>\n",
       "      <td>2023-02-12 03:59:18</td>\n",
       "      <td>183.136.225.42</td>\n",
       "      <td>17.17.17.17</td>\n",
       "      <td>TCP</td>\n",
       "      <td>8088.0</td>\n",
       "      <td>70.0</td>\n",
       "      <td>999.0</td>\n",
       "      <td>DENY</td>\n",
       "      <td>eth0</td>\n",
       "      <td>6.0</td>\n",
       "      <td>wk</td>\n",
       "    </tr>\n",
       "    <tr>\n",
       "      <th>4</th>\n",
       "      <td>2023-02-12 03:59:20</td>\n",
       "      <td>38.32.112.34</td>\n",
       "      <td>17.17.17.17</td>\n",
       "      <td>TCP</td>\n",
       "      <td>6356.0</td>\n",
       "      <td>443.0</td>\n",
       "      <td>1.0</td>\n",
       "      <td>PERMIT</td>\n",
       "      <td>eth0</td>\n",
       "      <td>6.0</td>\n",
       "      <td>wk</td>\n",
       "    </tr>\n",
       "  </tbody>\n",
       "</table>\n",
       "</div>"
      ],
      "text/plain": [
       "            timestamp           IPsrc        IPdst proto  portsrc portdst  \\\n",
       "0 2023-02-12 03:59:03   66.249.69.180  17.17.17.17   TCP  57630.0   443.0   \n",
       "1 2023-02-12 03:59:04   66.249.69.178  17.17.17.17   TCP  63808.0   443.0   \n",
       "2 2023-02-12 03:59:08  221.11.125.141  17.17.17.17   TCP  43123.0  2376.0   \n",
       "3 2023-02-12 03:59:18  183.136.225.42  17.17.17.17   TCP   8088.0    70.0   \n",
       "4 2023-02-12 03:59:20    38.32.112.34  17.17.17.17   TCP   6356.0   443.0   \n",
       "\n",
       "    rule  action     7    9 port_type  \n",
       "0    1.0  PERMIT  eth0  6.0        wk  \n",
       "1    1.0  PERMIT  eth0  6.0        wk  \n",
       "2  999.0    DENY  eth0  6.0       reg  \n",
       "3  999.0    DENY  eth0  6.0        wk  \n",
       "4    1.0  PERMIT  eth0  6.0        wk  "
      ]
     },
     "execution_count": 14,
     "metadata": {},
     "output_type": "execute_result"
    }
   ],
   "source": [
    "data.head()"
   ]
  },
  {
   "cell_type": "code",
   "execution_count": 15,
   "metadata": {},
   "outputs": [
    {
     "name": "stdout",
     "output_type": "stream",
     "text": [
      "   portsrc portdst   rule    9\n",
      "0  57630.0   443.0    1.0  6.0\n",
      "1  63808.0   443.0    1.0  6.0\n",
      "2  43123.0  2376.0  999.0  6.0\n",
      "3   8088.0    70.0  999.0  6.0\n",
      "4   6356.0   443.0    1.0  6.0\n",
      "\n",
      "\n",
      "PERMIT    0.764711\n",
      "DENY      0.235289\n",
      "Name: action, dtype: float64\n"
     ]
    }
   ],
   "source": [
    "# get IPsrc, IPdst, portsrc, portdst, action, rule, 9 into a new dataframe\n",
    "X = data[['portsrc', 'portdst', 'rule', '9']]\n",
    "print(X.head())\n",
    "\n",
    "print('\\n')\n",
    "y = data['action']\n",
    "print(y.value_counts(normalize=True))"
   ]
  },
  {
   "cell_type": "code",
   "execution_count": 16,
   "metadata": {},
   "outputs": [
    {
     "data": {
      "text/plain": [
       "portsrc    0\n",
       "portdst    0\n",
       "rule       0\n",
       "9          0\n",
       "dtype: int64"
      ]
     },
     "execution_count": 16,
     "metadata": {},
     "output_type": "execute_result"
    }
   ],
   "source": [
    "X.isna().sum()"
   ]
  },
  {
   "cell_type": "code",
   "execution_count": 17,
   "metadata": {},
   "outputs": [],
   "source": [
    "# Train test split\n",
    "from sklearn.model_selection import train_test_split\n",
    "\n",
    "# Split data\n",
    "X_train, X_test, y_train, y_test = train_test_split(X, y, test_size=0.2, random_state=0)"
   ]
  },
  {
   "cell_type": "code",
   "execution_count": 76,
   "metadata": {},
   "outputs": [
    {
     "data": {
      "text/plain": [
       "((14139032, 4), (3534758, 4))"
      ]
     },
     "execution_count": 76,
     "metadata": {},
     "output_type": "execute_result"
    }
   ],
   "source": [
    "X_train.shape, X_test.shape"
   ]
  },
  {
   "cell_type": "code",
   "execution_count": 18,
   "metadata": {},
   "outputs": [
    {
     "data": {
      "text/plain": [
       "(PERMIT    0.764597\n",
       " DENY      0.235403\n",
       " Name: action, dtype: float64,\n",
       " PERMIT    0.765165\n",
       " DENY      0.234835\n",
       " Name: action, dtype: float64)"
      ]
     },
     "execution_count": 18,
     "metadata": {},
     "output_type": "execute_result"
    }
   ],
   "source": [
    "y_train.value_counts(normalize=True), y_test.value_counts(normalize=True)"
   ]
  },
  {
   "cell_type": "code",
   "execution_count": 31,
   "metadata": {},
   "outputs": [],
   "source": [
    "from sklearn.ensemble import RandomForestClassifier\n",
    "\n",
    "rf0 = RandomForestClassifier(n_estimators=100, random_state=0)"
   ]
  },
  {
   "cell_type": "code",
   "execution_count": 78,
   "metadata": {},
   "outputs": [],
   "source": [
    "rf0.fit(X_train, y_train)"
   ]
  },
  {
   "cell_type": "code",
   "execution_count": null,
   "metadata": {},
   "outputs": [],
   "source": [
    "# Random Forest Classifier with GridSearchCV \n",
    "from sklearn.ensemble import RandomForestClassifier\n",
    "from sklearn.model_selection import GridSearchCV\n",
    "\n",
    "# Create the parameter grid based on the results of random search\n",
    "param_grid = {\n",
    "    'bootstrap': [True],\n",
    "    'max_depth': [80, 90, 100, 110],\n",
    "    'max_features': [2, 3],\n",
    "    'min_samples_leaf': [3, 4, 5],\n",
    "    'min_samples_split': [8, 10, 12],\n",
    "    'n_estimators': [100, 200, 300, 1000]\n",
    "}\n",
    "\n",
    "# Create a based model\n",
    "rf = RandomForestClassifier()\n",
    "\n",
    "# Instantiate the grid search model\n",
    "grid_search = GridSearchCV(estimator = rf, param_grid = param_grid,\n",
    "                            cv = 3, n_jobs = -1, verbose = 2)\n",
    "\n",
    "grid_search.fit(X_train, y_train)\n"
   ]
  }
 ],
 "metadata": {
  "kernelspec": {
   "display_name": "easydate",
   "language": "python",
   "name": "python3"
  },
  "language_info": {
   "codemirror_mode": {
    "name": "ipython",
    "version": 3
   },
   "file_extension": ".py",
   "mimetype": "text/x-python",
   "name": "python",
   "nbconvert_exporter": "python",
   "pygments_lexer": "ipython3",
   "version": "3.9.12"
  },
  "orig_nbformat": 4,
  "vscode": {
   "interpreter": {
    "hash": "d91c8b5161e63e7388c265ac0b5542221da923ed5ae2ffde49f9ddd8f3f83d2c"
   }
  }
 },
 "nbformat": 4,
 "nbformat_minor": 2
}
