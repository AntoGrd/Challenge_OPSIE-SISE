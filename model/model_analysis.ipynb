{
 "cells": [
  {
   "cell_type": "code",
<<<<<<< HEAD
   "execution_count": 80,
=======
   "execution_count": 1,
>>>>>>> 8e399c23ebe2060d5f25d0d39cfbf56b5e96a579
   "metadata": {},
   "outputs": [],
   "source": [
    "import pandas as pd\n",
    "import numpy as np\n"
   ]
  },
  {
   "cell_type": "code",
   "execution_count": 2,
   "metadata": {},
   "outputs": [],
   "source": [
    "log_data = pd.read_csv('C:/Users/hugou/Downloads/challenge-2023/challenge-2023/données/log_fw_3.csv/log_fw_3.csv', sep=';', header=None)"
   ]
  },
  {
   "cell_type": "code",
   "execution_count": 3,
   "metadata": {},
   "outputs": [
    {
     "name": "stdout",
     "output_type": "stream",
     "text": [
      "<class 'pandas.core.frame.DataFrame'>\n",
      "RangeIndex: 1000000 entries, 0 to 999999\n",
      "Data columns (total 11 columns):\n",
      " #   Column  Non-Null Count    Dtype  \n",
      "---  ------  --------------    -----  \n",
      " 0   0       1000000 non-null  object \n",
      " 1   1       999998 non-null   object \n",
      " 2   2       999998 non-null   object \n",
      " 3   3       999998 non-null   object \n",
      " 4   4       999998 non-null   float64\n",
      " 5   5       999998 non-null   float64\n",
      " 6   6       999998 non-null   float64\n",
      " 7   7       999998 non-null   object \n",
      " 8   8       999998 non-null   object \n",
      " 9   9       0 non-null        float64\n",
      " 10  10      999998 non-null   float64\n",
      "dtypes: float64(5), object(6)\n",
      "memory usage: 83.9+ MB\n"
     ]
    }
   ],
   "source": [
    "log_data.info()"
   ]
  },
  {
   "cell_type": "code",
   "execution_count": 4,
   "metadata": {},
   "outputs": [],
   "source": [
    "def to_datetime(x):\n",
    "    return pd.to_datetime(x, format='%Y-%m-%d %H:%M:%S.%f')\n",
    "\n",
    "def prepare_log_data(log_data):\n",
    "    log_data.columns = ['timestamp', 'IPsrc', 'IPdst', 'proto', 'portsrc', 'portdst', 'rule','action','7', '8','9']\n",
    "    log_data.timestamp = to_datetime(log_data.timestamp)\n",
    "    log_data.portdst = log_data.portdst.astype('object')\n",
    "    log_data['port_type'] = log_data['portdst'].apply(lambda x: 'wk' if x < 1024 else ('reg' if x >= 1024 and x <= 49151 else 'priv'))\n",
    "    return log_data"
   ]
  },
  {
   "cell_type": "code",
   "execution_count": 5,
   "metadata": {},
   "outputs": [
    {
     "data": {
      "text/html": [
       "<div>\n",
       "<style scoped>\n",
       "    .dataframe tbody tr th:only-of-type {\n",
       "        vertical-align: middle;\n",
       "    }\n",
       "\n",
       "    .dataframe tbody tr th {\n",
       "        vertical-align: top;\n",
       "    }\n",
       "\n",
       "    .dataframe thead th {\n",
       "        text-align: right;\n",
       "    }\n",
       "</style>\n",
       "<table border=\"1\" class=\"dataframe\">\n",
       "  <thead>\n",
       "    <tr style=\"text-align: right;\">\n",
       "      <th></th>\n",
       "      <th>timestamp</th>\n",
       "      <th>IPsrc</th>\n",
       "      <th>IPdst</th>\n",
       "      <th>proto</th>\n",
       "      <th>portsrc</th>\n",
       "      <th>portdst</th>\n",
       "      <th>rule</th>\n",
       "      <th>action</th>\n",
       "      <th>7</th>\n",
       "      <th>8</th>\n",
       "      <th>9</th>\n",
       "      <th>port_type</th>\n",
       "    </tr>\n",
       "  </thead>\n",
       "  <tbody>\n",
       "    <tr>\n",
       "      <th>0</th>\n",
       "      <td>2023-02-12 03:59:03</td>\n",
       "      <td>66.249.69.180</td>\n",
       "      <td>17.17.17.17</td>\n",
       "      <td>TCP</td>\n",
       "      <td>57630.0</td>\n",
       "      <td>443.0</td>\n",
       "      <td>1.0</td>\n",
       "      <td>PERMIT</td>\n",
       "      <td>eth0</td>\n",
       "      <td>NaN</td>\n",
       "      <td>6.0</td>\n",
       "      <td>wk</td>\n",
       "    </tr>\n",
       "    <tr>\n",
       "      <th>1</th>\n",
       "      <td>2023-02-12 03:59:04</td>\n",
       "      <td>66.249.69.178</td>\n",
       "      <td>17.17.17.17</td>\n",
       "      <td>TCP</td>\n",
       "      <td>63808.0</td>\n",
       "      <td>443.0</td>\n",
       "      <td>1.0</td>\n",
       "      <td>PERMIT</td>\n",
       "      <td>eth0</td>\n",
       "      <td>NaN</td>\n",
       "      <td>6.0</td>\n",
       "      <td>wk</td>\n",
       "    </tr>\n",
       "    <tr>\n",
       "      <th>2</th>\n",
       "      <td>2023-02-12 03:59:08</td>\n",
       "      <td>221.11.125.141</td>\n",
       "      <td>17.17.17.17</td>\n",
       "      <td>TCP</td>\n",
       "      <td>43123.0</td>\n",
       "      <td>2376.0</td>\n",
       "      <td>999.0</td>\n",
       "      <td>DENY</td>\n",
       "      <td>eth0</td>\n",
       "      <td>NaN</td>\n",
       "      <td>6.0</td>\n",
       "      <td>reg</td>\n",
       "    </tr>\n",
       "    <tr>\n",
       "      <th>3</th>\n",
       "      <td>2023-02-12 03:59:18</td>\n",
       "      <td>183.136.225.42</td>\n",
       "      <td>17.17.17.17</td>\n",
       "      <td>TCP</td>\n",
       "      <td>8088.0</td>\n",
       "      <td>70.0</td>\n",
       "      <td>999.0</td>\n",
       "      <td>DENY</td>\n",
       "      <td>eth0</td>\n",
       "      <td>NaN</td>\n",
       "      <td>6.0</td>\n",
       "      <td>wk</td>\n",
       "    </tr>\n",
       "    <tr>\n",
       "      <th>4</th>\n",
       "      <td>2023-02-12 03:59:20</td>\n",
       "      <td>38.32.112.34</td>\n",
       "      <td>17.17.17.17</td>\n",
       "      <td>TCP</td>\n",
       "      <td>6356.0</td>\n",
       "      <td>443.0</td>\n",
       "      <td>1.0</td>\n",
       "      <td>PERMIT</td>\n",
       "      <td>eth0</td>\n",
       "      <td>NaN</td>\n",
       "      <td>6.0</td>\n",
       "      <td>wk</td>\n",
       "    </tr>\n",
       "  </tbody>\n",
       "</table>\n",
       "</div>"
      ],
      "text/plain": [
       "            timestamp           IPsrc        IPdst proto  portsrc portdst  \\\n",
       "0 2023-02-12 03:59:03   66.249.69.180  17.17.17.17   TCP  57630.0   443.0   \n",
       "1 2023-02-12 03:59:04   66.249.69.178  17.17.17.17   TCP  63808.0   443.0   \n",
       "2 2023-02-12 03:59:08  221.11.125.141  17.17.17.17   TCP  43123.0  2376.0   \n",
       "3 2023-02-12 03:59:18  183.136.225.42  17.17.17.17   TCP   8088.0    70.0   \n",
       "4 2023-02-12 03:59:20    38.32.112.34  17.17.17.17   TCP   6356.0   443.0   \n",
       "\n",
       "    rule  action     7   8    9 port_type  \n",
       "0    1.0  PERMIT  eth0 NaN  6.0        wk  \n",
       "1    1.0  PERMIT  eth0 NaN  6.0        wk  \n",
       "2  999.0    DENY  eth0 NaN  6.0       reg  \n",
       "3  999.0    DENY  eth0 NaN  6.0        wk  \n",
       "4    1.0  PERMIT  eth0 NaN  6.0        wk  "
      ]
     },
     "execution_count": 5,
     "metadata": {},
     "output_type": "execute_result"
    }
   ],
   "source": [
    "prepare_log_data(log_data)\n",
    "log_data.head()"
   ]
  },
  {
   "cell_type": "code",
   "execution_count": 5,
   "metadata": {},
   "outputs": [
    {
     "data": {
      "text/plain": [
       "TCP    999998\n",
       "Name: 3, dtype: int64"
      ]
     },
     "execution_count": 5,
     "metadata": {},
     "output_type": "execute_result"
    }
   ],
   "source": [
    "log_data[3].value_counts()\n",
    "\n"
   ]
  },
  {
   "cell_type": "code",
   "execution_count": 65,
   "metadata": {},
   "outputs": [],
   "source": [
    "def to_datetime(x):\n",
    "    return pd.to_datetime(x, format='%Y-%m-%d %H:%M:%S.%f')\n",
    "\n",
    "def prepare_log_data(log_data):\n",
    "    log_data.columns = ['timestamp', 'IPsrc', 'IPdst', 'proto', 'portsrc', 'portdst', 'rule','action','7', '8','9']\n",
    "    log_data.timestamp = to_datetime(log_data.timestamp)\n",
    "    log_data.portdst = log_data.portdst.astype('object')\n",
    "    return log_data"
   ]
  },
  {
   "cell_type": "code",
   "execution_count": 8,
   "metadata": {},
   "outputs": [],
   "source": [
    "data = log_data.copy()"
   ]
  },
  {
   "cell_type": "code",
   "execution_count": 9,
   "metadata": {},
   "outputs": [
    {
     "data": {
      "text/plain": [
       "0        NaN\n",
       "1        NaN\n",
       "2        NaN\n",
       "3        NaN\n",
       "4        NaN\n",
       "          ..\n",
       "999995   NaN\n",
       "999996   NaN\n",
       "999997   NaN\n",
       "999998   NaN\n",
       "999999   NaN\n",
       "Name: 8, Length: 1000000, dtype: float64"
      ]
     },
     "execution_count": 9,
     "metadata": {},
     "output_type": "execute_result"
    }
   ],
   "source": [
    "data.pop('8')"
   ]
  },
  {
   "cell_type": "code",
   "execution_count": 10,
   "metadata": {},
   "outputs": [
    {
     "data": {
      "text/html": [
       "<div>\n",
       "<style scoped>\n",
       "    .dataframe tbody tr th:only-of-type {\n",
       "        vertical-align: middle;\n",
       "    }\n",
       "\n",
       "    .dataframe tbody tr th {\n",
       "        vertical-align: top;\n",
       "    }\n",
       "\n",
       "    .dataframe thead th {\n",
       "        text-align: right;\n",
       "    }\n",
       "</style>\n",
       "<table border=\"1\" class=\"dataframe\">\n",
       "  <thead>\n",
       "    <tr style=\"text-align: right;\">\n",
       "      <th></th>\n",
       "      <th>timestamp</th>\n",
       "      <th>IPsrc</th>\n",
       "      <th>IPdst</th>\n",
       "      <th>proto</th>\n",
       "      <th>portsrc</th>\n",
       "      <th>portdst</th>\n",
       "      <th>rule</th>\n",
       "      <th>action</th>\n",
       "      <th>7</th>\n",
       "      <th>9</th>\n",
       "      <th>port_type</th>\n",
       "    </tr>\n",
       "  </thead>\n",
       "  <tbody>\n",
       "    <tr>\n",
       "      <th>0</th>\n",
       "      <td>2023-02-12 03:59:03</td>\n",
       "      <td>66.249.69.180</td>\n",
       "      <td>17.17.17.17</td>\n",
       "      <td>TCP</td>\n",
       "      <td>57630.0</td>\n",
       "      <td>443.0</td>\n",
       "      <td>1.0</td>\n",
       "      <td>PERMIT</td>\n",
       "      <td>eth0</td>\n",
       "      <td>6.0</td>\n",
       "      <td>wk</td>\n",
       "    </tr>\n",
       "    <tr>\n",
       "      <th>1</th>\n",
       "      <td>2023-02-12 03:59:04</td>\n",
       "      <td>66.249.69.178</td>\n",
       "      <td>17.17.17.17</td>\n",
       "      <td>TCP</td>\n",
       "      <td>63808.0</td>\n",
       "      <td>443.0</td>\n",
       "      <td>1.0</td>\n",
       "      <td>PERMIT</td>\n",
       "      <td>eth0</td>\n",
       "      <td>6.0</td>\n",
       "      <td>wk</td>\n",
       "    </tr>\n",
       "    <tr>\n",
       "      <th>2</th>\n",
       "      <td>2023-02-12 03:59:08</td>\n",
       "      <td>221.11.125.141</td>\n",
       "      <td>17.17.17.17</td>\n",
       "      <td>TCP</td>\n",
       "      <td>43123.0</td>\n",
       "      <td>2376.0</td>\n",
       "      <td>999.0</td>\n",
       "      <td>DENY</td>\n",
       "      <td>eth0</td>\n",
       "      <td>6.0</td>\n",
       "      <td>reg</td>\n",
       "    </tr>\n",
       "    <tr>\n",
       "      <th>3</th>\n",
       "      <td>2023-02-12 03:59:18</td>\n",
       "      <td>183.136.225.42</td>\n",
       "      <td>17.17.17.17</td>\n",
       "      <td>TCP</td>\n",
       "      <td>8088.0</td>\n",
       "      <td>70.0</td>\n",
       "      <td>999.0</td>\n",
       "      <td>DENY</td>\n",
       "      <td>eth0</td>\n",
       "      <td>6.0</td>\n",
       "      <td>wk</td>\n",
       "    </tr>\n",
       "    <tr>\n",
       "      <th>4</th>\n",
       "      <td>2023-02-12 03:59:20</td>\n",
       "      <td>38.32.112.34</td>\n",
       "      <td>17.17.17.17</td>\n",
       "      <td>TCP</td>\n",
       "      <td>6356.0</td>\n",
       "      <td>443.0</td>\n",
       "      <td>1.0</td>\n",
       "      <td>PERMIT</td>\n",
       "      <td>eth0</td>\n",
       "      <td>6.0</td>\n",
       "      <td>wk</td>\n",
       "    </tr>\n",
       "    <tr>\n",
       "      <th>5</th>\n",
       "      <td>2023-02-12 03:59:22</td>\n",
       "      <td>45.125.66.18</td>\n",
       "      <td>17.17.17.17</td>\n",
       "      <td>TCP</td>\n",
       "      <td>58438.0</td>\n",
       "      <td>23.0</td>\n",
       "      <td>7.0</td>\n",
       "      <td>DENY</td>\n",
       "      <td>eth0</td>\n",
       "      <td>6.0</td>\n",
       "      <td>wk</td>\n",
       "    </tr>\n",
       "    <tr>\n",
       "      <th>6</th>\n",
       "      <td>2023-02-12 03:59:29</td>\n",
       "      <td>107.170.242.5</td>\n",
       "      <td>17.17.17.17</td>\n",
       "      <td>TCP</td>\n",
       "      <td>39974.0</td>\n",
       "      <td>5093.0</td>\n",
       "      <td>999.0</td>\n",
       "      <td>DENY</td>\n",
       "      <td>eth0</td>\n",
       "      <td>6.0</td>\n",
       "      <td>reg</td>\n",
       "    </tr>\n",
       "    <tr>\n",
       "      <th>7</th>\n",
       "      <td>2023-02-12 03:59:33</td>\n",
       "      <td>45.93.16.171</td>\n",
       "      <td>17.17.17.17</td>\n",
       "      <td>TCP</td>\n",
       "      <td>42021.0</td>\n",
       "      <td>50802.0</td>\n",
       "      <td>999.0</td>\n",
       "      <td>DENY</td>\n",
       "      <td>eth0</td>\n",
       "      <td>6.0</td>\n",
       "      <td>priv</td>\n",
       "    </tr>\n",
       "    <tr>\n",
       "      <th>8</th>\n",
       "      <td>2023-02-12 03:59:35</td>\n",
       "      <td>157.55.39.59</td>\n",
       "      <td>17.17.17.17</td>\n",
       "      <td>TCP</td>\n",
       "      <td>45120.0</td>\n",
       "      <td>443.0</td>\n",
       "      <td>1.0</td>\n",
       "      <td>PERMIT</td>\n",
       "      <td>eth0</td>\n",
       "      <td>6.0</td>\n",
       "      <td>wk</td>\n",
       "    </tr>\n",
       "    <tr>\n",
       "      <th>9</th>\n",
       "      <td>2023-02-12 03:59:39</td>\n",
       "      <td>104.156.155.11</td>\n",
       "      <td>17.17.17.17</td>\n",
       "      <td>TCP</td>\n",
       "      <td>58728.0</td>\n",
       "      <td>9109.0</td>\n",
       "      <td>999.0</td>\n",
       "      <td>DENY</td>\n",
       "      <td>eth0</td>\n",
       "      <td>6.0</td>\n",
       "      <td>reg</td>\n",
       "    </tr>\n",
       "  </tbody>\n",
       "</table>\n",
       "</div>"
      ],
      "text/plain": [
       "            timestamp           IPsrc        IPdst proto  portsrc  portdst  \\\n",
       "0 2023-02-12 03:59:03   66.249.69.180  17.17.17.17   TCP  57630.0    443.0   \n",
       "1 2023-02-12 03:59:04   66.249.69.178  17.17.17.17   TCP  63808.0    443.0   \n",
       "2 2023-02-12 03:59:08  221.11.125.141  17.17.17.17   TCP  43123.0   2376.0   \n",
       "3 2023-02-12 03:59:18  183.136.225.42  17.17.17.17   TCP   8088.0     70.0   \n",
       "4 2023-02-12 03:59:20    38.32.112.34  17.17.17.17   TCP   6356.0    443.0   \n",
       "5 2023-02-12 03:59:22    45.125.66.18  17.17.17.17   TCP  58438.0     23.0   \n",
       "6 2023-02-12 03:59:29   107.170.242.5  17.17.17.17   TCP  39974.0   5093.0   \n",
       "7 2023-02-12 03:59:33    45.93.16.171  17.17.17.17   TCP  42021.0  50802.0   \n",
       "8 2023-02-12 03:59:35    157.55.39.59  17.17.17.17   TCP  45120.0    443.0   \n",
       "9 2023-02-12 03:59:39  104.156.155.11  17.17.17.17   TCP  58728.0   9109.0   \n",
       "\n",
       "    rule  action     7    9 port_type  \n",
       "0    1.0  PERMIT  eth0  6.0        wk  \n",
       "1    1.0  PERMIT  eth0  6.0        wk  \n",
       "2  999.0    DENY  eth0  6.0       reg  \n",
       "3  999.0    DENY  eth0  6.0        wk  \n",
       "4    1.0  PERMIT  eth0  6.0        wk  \n",
       "5    7.0    DENY  eth0  6.0        wk  \n",
       "6  999.0    DENY  eth0  6.0       reg  \n",
       "7  999.0    DENY  eth0  6.0      priv  \n",
       "8    1.0  PERMIT  eth0  6.0        wk  \n",
       "9  999.0    DENY  eth0  6.0       reg  "
      ]
     },
     "execution_count": 10,
     "metadata": {},
     "output_type": "execute_result"
    }
   ],
   "source": [
    "data.head(10)"
   ]
  },
  {
   "cell_type": "code",
   "execution_count": 11,
   "metadata": {},
   "outputs": [],
   "source": [
    "data.portsrc = data.portsrc.astype('object')"
   ]
  },
  {
   "cell_type": "code",
   "execution_count": 12,
   "metadata": {},
   "outputs": [
    {
     "data": {
      "text/plain": [
       "timestamp    datetime64[ns]\n",
       "IPsrc                object\n",
       "IPdst                object\n",
       "proto                object\n",
       "portsrc              object\n",
       "portdst              object\n",
       "rule                float64\n",
       "action               object\n",
       "7                    object\n",
       "9                   float64\n",
       "port_type            object\n",
       "dtype: object"
      ]
     },
     "execution_count": 12,
     "metadata": {},
     "output_type": "execute_result"
    }
   ],
   "source": [
    "data.dtypes"
   ]
  },
  {
   "cell_type": "code",
   "execution_count": 13,
   "metadata": {},
   "outputs": [],
   "source": [
    "data.dropna(inplace=True)"
   ]
  },
  {
   "cell_type": "code",
   "execution_count": 14,
   "metadata": {},
   "outputs": [
    {
     "data": {
      "text/html": [
       "<div>\n",
       "<style scoped>\n",
       "    .dataframe tbody tr th:only-of-type {\n",
       "        vertical-align: middle;\n",
       "    }\n",
       "\n",
       "    .dataframe tbody tr th {\n",
       "        vertical-align: top;\n",
       "    }\n",
       "\n",
       "    .dataframe thead th {\n",
       "        text-align: right;\n",
       "    }\n",
       "</style>\n",
       "<table border=\"1\" class=\"dataframe\">\n",
       "  <thead>\n",
       "    <tr style=\"text-align: right;\">\n",
       "      <th></th>\n",
       "      <th>timestamp</th>\n",
       "      <th>IPsrc</th>\n",
       "      <th>IPdst</th>\n",
       "      <th>proto</th>\n",
       "      <th>portsrc</th>\n",
       "      <th>portdst</th>\n",
       "      <th>rule</th>\n",
       "      <th>action</th>\n",
       "      <th>7</th>\n",
       "      <th>9</th>\n",
       "      <th>port_type</th>\n",
       "    </tr>\n",
       "  </thead>\n",
       "  <tbody>\n",
       "    <tr>\n",
       "      <th>0</th>\n",
       "      <td>2023-02-12 03:59:03</td>\n",
       "      <td>66.249.69.180</td>\n",
       "      <td>17.17.17.17</td>\n",
       "      <td>TCP</td>\n",
       "      <td>57630.0</td>\n",
       "      <td>443.0</td>\n",
       "      <td>1.0</td>\n",
       "      <td>PERMIT</td>\n",
       "      <td>eth0</td>\n",
       "      <td>6.0</td>\n",
       "      <td>wk</td>\n",
       "    </tr>\n",
       "    <tr>\n",
       "      <th>1</th>\n",
       "      <td>2023-02-12 03:59:04</td>\n",
       "      <td>66.249.69.178</td>\n",
       "      <td>17.17.17.17</td>\n",
       "      <td>TCP</td>\n",
       "      <td>63808.0</td>\n",
       "      <td>443.0</td>\n",
       "      <td>1.0</td>\n",
       "      <td>PERMIT</td>\n",
       "      <td>eth0</td>\n",
       "      <td>6.0</td>\n",
       "      <td>wk</td>\n",
       "    </tr>\n",
       "    <tr>\n",
       "      <th>2</th>\n",
       "      <td>2023-02-12 03:59:08</td>\n",
       "      <td>221.11.125.141</td>\n",
       "      <td>17.17.17.17</td>\n",
       "      <td>TCP</td>\n",
       "      <td>43123.0</td>\n",
       "      <td>2376.0</td>\n",
       "      <td>999.0</td>\n",
       "      <td>DENY</td>\n",
       "      <td>eth0</td>\n",
       "      <td>6.0</td>\n",
       "      <td>reg</td>\n",
       "    </tr>\n",
       "    <tr>\n",
       "      <th>3</th>\n",
       "      <td>2023-02-12 03:59:18</td>\n",
       "      <td>183.136.225.42</td>\n",
       "      <td>17.17.17.17</td>\n",
       "      <td>TCP</td>\n",
       "      <td>8088.0</td>\n",
       "      <td>70.0</td>\n",
       "      <td>999.0</td>\n",
       "      <td>DENY</td>\n",
       "      <td>eth0</td>\n",
       "      <td>6.0</td>\n",
       "      <td>wk</td>\n",
       "    </tr>\n",
       "    <tr>\n",
       "      <th>4</th>\n",
       "      <td>2023-02-12 03:59:20</td>\n",
       "      <td>38.32.112.34</td>\n",
       "      <td>17.17.17.17</td>\n",
       "      <td>TCP</td>\n",
       "      <td>6356.0</td>\n",
       "      <td>443.0</td>\n",
       "      <td>1.0</td>\n",
       "      <td>PERMIT</td>\n",
       "      <td>eth0</td>\n",
       "      <td>6.0</td>\n",
       "      <td>wk</td>\n",
       "    </tr>\n",
       "  </tbody>\n",
       "</table>\n",
       "</div>"
      ],
      "text/plain": [
       "            timestamp           IPsrc        IPdst proto  portsrc portdst  \\\n",
       "0 2023-02-12 03:59:03   66.249.69.180  17.17.17.17   TCP  57630.0   443.0   \n",
       "1 2023-02-12 03:59:04   66.249.69.178  17.17.17.17   TCP  63808.0   443.0   \n",
       "2 2023-02-12 03:59:08  221.11.125.141  17.17.17.17   TCP  43123.0  2376.0   \n",
       "3 2023-02-12 03:59:18  183.136.225.42  17.17.17.17   TCP   8088.0    70.0   \n",
       "4 2023-02-12 03:59:20    38.32.112.34  17.17.17.17   TCP   6356.0   443.0   \n",
       "\n",
       "    rule  action     7    9 port_type  \n",
       "0    1.0  PERMIT  eth0  6.0        wk  \n",
       "1    1.0  PERMIT  eth0  6.0        wk  \n",
       "2  999.0    DENY  eth0  6.0       reg  \n",
       "3  999.0    DENY  eth0  6.0        wk  \n",
       "4    1.0  PERMIT  eth0  6.0        wk  "
      ]
     },
     "execution_count": 14,
     "metadata": {},
     "output_type": "execute_result"
    }
   ],
   "source": [
    "data.head()"
   ]
  },
  {
   "attachments": {},
   "cell_type": "markdown",
   "metadata": {},
   "source": [
    "# Supervised learning"
   ]
  },
  {
   "cell_type": "code",
<<<<<<< HEAD
   "execution_count": 138,
=======
   "execution_count": 15,
>>>>>>> 8e399c23ebe2060d5f25d0d39cfbf56b5e96a579
   "metadata": {},
   "outputs": [
    {
     "name": "stderr",
     "output_type": "stream",
     "text": [
      "/var/folders/bn/wmnlmrqn173_fl00j17x5hqm0000gn/T/ipykernel_74948/1425913918.py:5: SettingWithCopyWarning:\n",
      "\n",
      "\n",
      "A value is trying to be set on a copy of a slice from a DataFrame.\n",
      "Try using .loc[row_indexer,col_indexer] = value instead\n",
      "\n",
      "See the caveats in the documentation: https://pandas.pydata.org/pandas-docs/stable/user_guide/indexing.html#returning-a-view-versus-a-copy\n",
      "\n",
      "/var/folders/bn/wmnlmrqn173_fl00j17x5hqm0000gn/T/ipykernel_74948/1425913918.py:6: SettingWithCopyWarning:\n",
      "\n",
      "\n",
      "A value is trying to be set on a copy of a slice from a DataFrame.\n",
      "Try using .loc[row_indexer,col_indexer] = value instead\n",
      "\n",
      "See the caveats in the documentation: https://pandas.pydata.org/pandas-docs/stable/user_guide/indexing.html#returning-a-view-versus-a-copy\n",
      "\n",
      "/var/folders/bn/wmnlmrqn173_fl00j17x5hqm0000gn/T/ipykernel_74948/1425913918.py:8: SettingWithCopyWarning:\n",
      "\n",
      "\n",
      "A value is trying to be set on a copy of a slice from a DataFrame.\n",
      "Try using .loc[row_indexer,col_indexer] = value instead\n",
      "\n",
      "See the caveats in the documentation: https://pandas.pydata.org/pandas-docs/stable/user_guide/indexing.html#returning-a-view-versus-a-copy\n",
      "\n",
      "/var/folders/bn/wmnlmrqn173_fl00j17x5hqm0000gn/T/ipykernel_74948/1425913918.py:9: SettingWithCopyWarning:\n",
      "\n",
      "\n",
      "A value is trying to be set on a copy of a slice from a DataFrame.\n",
      "Try using .loc[row_indexer,col_indexer] = value instead\n",
      "\n",
      "See the caveats in the documentation: https://pandas.pydata.org/pandas-docs/stable/user_guide/indexing.html#returning-a-view-versus-a-copy\n",
      "\n"
     ]
    },
    {
     "name": "stdout",
     "output_type": "stream",
     "text": [
<<<<<<< HEAD
      "    IPsrc  IPdst  portsrc  portdst    9\n",
      "0  346485      0  50242.0  25918.0  6.0\n",
      "1  107225      0  47162.0  24474.0  6.0\n",
      "2  346485      0  50242.0  23937.0  6.0\n",
      "3  348953      0  41839.0   1996.0  6.0\n",
      "4  291574      0  46712.0    443.0  6.0\n",
=======
      "   portsrc portdst   rule    9\n",
      "0  57630.0   443.0    1.0  6.0\n",
      "1  63808.0   443.0    1.0  6.0\n",
      "2  43123.0  2376.0  999.0  6.0\n",
      "3   8088.0    70.0  999.0  6.0\n",
      "4   6356.0   443.0    1.0  6.0\n",
>>>>>>> 8e399c23ebe2060d5f25d0d39cfbf56b5e96a579
      "\n",
      "\n",
      "PERMIT    0.764711\n",
      "DENY      0.235289\n",
      "Name: action, dtype: float64\n"
     ]
    }
   ],
   "source": [
    "# get IPsrc, IPdst, portsrc, portdst, action, rule, 9 into a new dataframe  X\n",
    "X = data[['IPsrc', 'IPdst','portsrc', 'portdst', '9']]\n",
    "\n",
    "# recode IPsrc and IPdst to numeric values\n",
    "X['IPsrc'] = X['IPsrc'].astype('category')\n",
    "X['IPdst'] = X['IPdst'].astype('category')\n",
    "\n",
    "X['IPsrc'] = X['IPsrc'].cat.codes\n",
    "X['IPdst'] = X['IPdst'].cat.codes\n",
    "\n",
    "print(X.head())\n",
    "\n",
    "print('\\n')\n",
    "y = data['action']\n",
    "print(y.value_counts(normalize=True))"
   ]
  },
  {
   "cell_type": "code",
<<<<<<< HEAD
   "execution_count": 139,
=======
   "execution_count": 16,
>>>>>>> 8e399c23ebe2060d5f25d0d39cfbf56b5e96a579
   "metadata": {},
   "outputs": [
    {
     "data": {
      "text/plain": [
       "IPsrc      0\n",
       "IPdst      0\n",
       "portsrc    0\n",
       "portdst    0\n",
       "9          0\n",
       "dtype: int64"
      ]
     },
<<<<<<< HEAD
     "execution_count": 139,
=======
     "execution_count": 16,
>>>>>>> 8e399c23ebe2060d5f25d0d39cfbf56b5e96a579
     "metadata": {},
     "output_type": "execute_result"
    }
   ],
   "source": [
    "X.isna().sum()"
   ]
  },
  {
   "cell_type": "code",
<<<<<<< HEAD
   "execution_count": 140,
=======
   "execution_count": 17,
>>>>>>> 8e399c23ebe2060d5f25d0d39cfbf56b5e96a579
   "metadata": {},
   "outputs": [],
   "source": [
    "# Train test split\n",
    "from sklearn.model_selection import train_test_split\n",
    "\n",
    "# Split data\n",
    "X_train, X_test, y_train, y_test = train_test_split(X, y, test_size=0.2, random_state=0)"
   ]
  },
  {
   "cell_type": "code",
   "execution_count": 141,
   "metadata": {},
   "outputs": [
    {
     "data": {
      "text/plain": [
       "((14139032, 5), (3534758, 5))"
      ]
     },
     "execution_count": 141,
     "metadata": {},
     "output_type": "execute_result"
    }
   ],
   "source": [
    "X_train.shape, X_test.shape"
   ]
  },
  {
   "cell_type": "code",
<<<<<<< HEAD
   "execution_count": 142,
=======
   "execution_count": 18,
>>>>>>> 8e399c23ebe2060d5f25d0d39cfbf56b5e96a579
   "metadata": {},
   "outputs": [
    {
     "data": {
      "text/plain": [
       "(PERMIT    0.764597\n",
       " DENY      0.235403\n",
       " Name: action, dtype: float64,\n",
       " PERMIT    0.765165\n",
       " DENY      0.234835\n",
       " Name: action, dtype: float64)"
      ]
     },
<<<<<<< HEAD
     "execution_count": 142,
=======
     "execution_count": 18,
>>>>>>> 8e399c23ebe2060d5f25d0d39cfbf56b5e96a579
     "metadata": {},
     "output_type": "execute_result"
    }
   ],
   "source": [
    "y_train.value_counts(normalize=True), y_test.value_counts(normalize=True)"
   ]
  },
  {
   "cell_type": "code",
   "execution_count": 143,
   "metadata": {},
   "outputs": [],
   "source": [
    "import xgboost as xgb\n",
    "\n",
    "xg_cl = xgb.XGBClassifier(objective='binary:logistic', n_estimators=10, seed=0)"
   ]
  },
  {
   "cell_type": "code",
   "execution_count": 144,
   "metadata": {},
   "outputs": [
    {
     "data": {
      "text/plain": [
       "(1    0.846902\n",
       " 0    0.153098\n",
       " Name: action, dtype: float64,\n",
       " 1    0.846896\n",
       " 0    0.153104\n",
       " Name: action, dtype: float64)"
      ]
     },
     "execution_count": 144,
     "metadata": {},
     "output_type": "execute_result"
    }
   ],
   "source": [
    "# convert y categorical variables to 0 and 1\n",
    "y_train_bin = y_train.map({'DENY': 0, 'PERMIT': 1})\n",
    "y_test_bin = y_test.map({'DENY': 0, 'PERMIT': 1})\n",
    "\n",
    "\n",
    "y_train_bin.value_counts(normalize=True), y_test_bin.value_counts(normalize=True)\n"
   ]
  },
  {
   "cell_type": "code",
   "execution_count": 145,
   "metadata": {},
   "outputs": [],
   "source": [
    "# make a function to convert object columns to category\n",
    "def convert_to_float(df):\n",
    "    for col in df.columns:\n",
    "        if df[col].dtype == 'object':\n",
    "            df[col] = df[col].astype('float64')\n",
    "    return df"
   ]
  },
  {
   "cell_type": "code",
   "execution_count": 146,
   "metadata": {},
   "outputs": [],
   "source": [
    "X_train = convert_to_float(X_train)\n",
    "X_test = convert_to_float(X_test)"
   ]
  },
  {
   "cell_type": "code",
   "execution_count": 147,
   "metadata": {},
   "outputs": [
    {
     "data": {
      "text/plain": [
       "IPsrc        int32\n",
       "IPdst         int8\n",
       "portsrc    float64\n",
       "portdst    float64\n",
       "9          float64\n",
       "dtype: object"
      ]
     },
     "execution_count": 147,
     "metadata": {},
     "output_type": "execute_result"
    }
   ],
   "source": [
    "X_train.dtypes"
   ]
  },
  {
   "cell_type": "code",
   "execution_count": 148,
   "metadata": {},
   "outputs": [
    {
     "data": {
      "text/html": [
       "<style>#sk-container-id-3 {color: black;background-color: white;}#sk-container-id-3 pre{padding: 0;}#sk-container-id-3 div.sk-toggleable {background-color: white;}#sk-container-id-3 label.sk-toggleable__label {cursor: pointer;display: block;width: 100%;margin-bottom: 0;padding: 0.3em;box-sizing: border-box;text-align: center;}#sk-container-id-3 label.sk-toggleable__label-arrow:before {content: \"▸\";float: left;margin-right: 0.25em;color: #696969;}#sk-container-id-3 label.sk-toggleable__label-arrow:hover:before {color: black;}#sk-container-id-3 div.sk-estimator:hover label.sk-toggleable__label-arrow:before {color: black;}#sk-container-id-3 div.sk-toggleable__content {max-height: 0;max-width: 0;overflow: hidden;text-align: left;background-color: #f0f8ff;}#sk-container-id-3 div.sk-toggleable__content pre {margin: 0.2em;color: black;border-radius: 0.25em;background-color: #f0f8ff;}#sk-container-id-3 input.sk-toggleable__control:checked~div.sk-toggleable__content {max-height: 200px;max-width: 100%;overflow: auto;}#sk-container-id-3 input.sk-toggleable__control:checked~label.sk-toggleable__label-arrow:before {content: \"▾\";}#sk-container-id-3 div.sk-estimator input.sk-toggleable__control:checked~label.sk-toggleable__label {background-color: #d4ebff;}#sk-container-id-3 div.sk-label input.sk-toggleable__control:checked~label.sk-toggleable__label {background-color: #d4ebff;}#sk-container-id-3 input.sk-hidden--visually {border: 0;clip: rect(1px 1px 1px 1px);clip: rect(1px, 1px, 1px, 1px);height: 1px;margin: -1px;overflow: hidden;padding: 0;position: absolute;width: 1px;}#sk-container-id-3 div.sk-estimator {font-family: monospace;background-color: #f0f8ff;border: 1px dotted black;border-radius: 0.25em;box-sizing: border-box;margin-bottom: 0.5em;}#sk-container-id-3 div.sk-estimator:hover {background-color: #d4ebff;}#sk-container-id-3 div.sk-parallel-item::after {content: \"\";width: 100%;border-bottom: 1px solid gray;flex-grow: 1;}#sk-container-id-3 div.sk-label:hover label.sk-toggleable__label {background-color: #d4ebff;}#sk-container-id-3 div.sk-serial::before {content: \"\";position: absolute;border-left: 1px solid gray;box-sizing: border-box;top: 0;bottom: 0;left: 50%;z-index: 0;}#sk-container-id-3 div.sk-serial {display: flex;flex-direction: column;align-items: center;background-color: white;padding-right: 0.2em;padding-left: 0.2em;position: relative;}#sk-container-id-3 div.sk-item {position: relative;z-index: 1;}#sk-container-id-3 div.sk-parallel {display: flex;align-items: stretch;justify-content: center;background-color: white;position: relative;}#sk-container-id-3 div.sk-item::before, #sk-container-id-3 div.sk-parallel-item::before {content: \"\";position: absolute;border-left: 1px solid gray;box-sizing: border-box;top: 0;bottom: 0;left: 50%;z-index: -1;}#sk-container-id-3 div.sk-parallel-item {display: flex;flex-direction: column;z-index: 1;position: relative;background-color: white;}#sk-container-id-3 div.sk-parallel-item:first-child::after {align-self: flex-end;width: 50%;}#sk-container-id-3 div.sk-parallel-item:last-child::after {align-self: flex-start;width: 50%;}#sk-container-id-3 div.sk-parallel-item:only-child::after {width: 0;}#sk-container-id-3 div.sk-dashed-wrapped {border: 1px dashed gray;margin: 0 0.4em 0.5em 0.4em;box-sizing: border-box;padding-bottom: 0.4em;background-color: white;}#sk-container-id-3 div.sk-label label {font-family: monospace;font-weight: bold;display: inline-block;line-height: 1.2em;}#sk-container-id-3 div.sk-label-container {text-align: center;}#sk-container-id-3 div.sk-container {/* jupyter's `normalize.less` sets `[hidden] { display: none; }` but bootstrap.min.css set `[hidden] { display: none !important; }` so we also need the `!important` here to be able to override the default hidden behavior on the sphinx rendered scikit-learn.org. See: https://github.com/scikit-learn/scikit-learn/issues/21755 */display: inline-block !important;position: relative;}#sk-container-id-3 div.sk-text-repr-fallback {display: none;}</style><div id=\"sk-container-id-3\" class=\"sk-top-container\"><div class=\"sk-text-repr-fallback\"><pre>XGBClassifier(base_score=None, booster=None, callbacks=None,\n",
       "              colsample_bylevel=None, colsample_bynode=None,\n",
       "              colsample_bytree=None, early_stopping_rounds=None,\n",
       "              enable_categorical=False, eval_metric=None, feature_types=None,\n",
       "              gamma=None, gpu_id=None, grow_policy=None, importance_type=None,\n",
       "              interaction_constraints=None, learning_rate=None, max_bin=None,\n",
       "              max_cat_threshold=None, max_cat_to_onehot=None,\n",
       "              max_delta_step=None, max_depth=None, max_leaves=None,\n",
       "              min_child_weight=None, missing=nan, monotone_constraints=None,\n",
       "              n_estimators=10, n_jobs=None, num_parallel_tree=None,\n",
       "              predictor=None, random_state=None, ...)</pre><b>In a Jupyter environment, please rerun this cell to show the HTML representation or trust the notebook. <br />On GitHub, the HTML representation is unable to render, please try loading this page with nbviewer.org.</b></div><div class=\"sk-container\" hidden><div class=\"sk-item\"><div class=\"sk-estimator sk-toggleable\"><input class=\"sk-toggleable__control sk-hidden--visually\" id=\"sk-estimator-id-3\" type=\"checkbox\" checked><label for=\"sk-estimator-id-3\" class=\"sk-toggleable__label sk-toggleable__label-arrow\">XGBClassifier</label><div class=\"sk-toggleable__content\"><pre>XGBClassifier(base_score=None, booster=None, callbacks=None,\n",
       "              colsample_bylevel=None, colsample_bynode=None,\n",
       "              colsample_bytree=None, early_stopping_rounds=None,\n",
       "              enable_categorical=False, eval_metric=None, feature_types=None,\n",
       "              gamma=None, gpu_id=None, grow_policy=None, importance_type=None,\n",
       "              interaction_constraints=None, learning_rate=None, max_bin=None,\n",
       "              max_cat_threshold=None, max_cat_to_onehot=None,\n",
       "              max_delta_step=None, max_depth=None, max_leaves=None,\n",
       "              min_child_weight=None, missing=nan, monotone_constraints=None,\n",
       "              n_estimators=10, n_jobs=None, num_parallel_tree=None,\n",
       "              predictor=None, random_state=None, ...)</pre></div></div></div></div></div>"
      ],
      "text/plain": [
       "XGBClassifier(base_score=None, booster=None, callbacks=None,\n",
       "              colsample_bylevel=None, colsample_bynode=None,\n",
       "              colsample_bytree=None, early_stopping_rounds=None,\n",
       "              enable_categorical=False, eval_metric=None, feature_types=None,\n",
       "              gamma=None, gpu_id=None, grow_policy=None, importance_type=None,\n",
       "              interaction_constraints=None, learning_rate=None, max_bin=None,\n",
       "              max_cat_threshold=None, max_cat_to_onehot=None,\n",
       "              max_delta_step=None, max_depth=None, max_leaves=None,\n",
       "              min_child_weight=None, missing=nan, monotone_constraints=None,\n",
       "              n_estimators=10, n_jobs=None, num_parallel_tree=None,\n",
       "              predictor=None, random_state=None, ...)"
      ]
     },
     "execution_count": 148,
     "metadata": {},
     "output_type": "execute_result"
    }
   ],
   "source": [
    "xg_cl.fit(X_train, y_train_bin)"
   ]
  },
  {
   "cell_type": "code",
   "execution_count": 149,
   "metadata": {},
   "outputs": [],
   "source": [
    "pred = xg_cl.predict(X_test)"
   ]
  },
  {
   "cell_type": "code",
   "execution_count": 150,
   "metadata": {},
   "outputs": [
    {
     "name": "stdout",
     "output_type": "stream",
     "text": [
      "Accuracy:  1.0\n",
      "Precision:  1.0\n",
      "Recall:  1.0\n",
      "F1:  1.0\n"
     ]
    },
    {
     "data": {
      "text/plain": [
       "array([9.1001153e-04, 0.0000000e+00, 2.2337344e-04, 2.7196592e-01,\n",
       "       7.2690070e-01], dtype=float32)"
      ]
     },
     "execution_count": 150,
     "metadata": {},
     "output_type": "execute_result"
    }
   ],
   "source": [
    "# get metrics\n",
    "from sklearn.metrics import accuracy_score, precision_score, recall_score, f1_score\n",
    "\n",
    "print('Accuracy: ', accuracy_score(y_test_bin, pred))\n",
    "print('Precision: ', precision_score(y_test_bin, pred))\n",
    "print('Recall: ', recall_score(y_test_bin, pred))\n",
    "print('F1: ', f1_score(y_test_bin, pred))\n",
    "\n",
    "# get feature importance\n",
    "xg_cl.feature_importances_\n",
    "\n"
   ]
  },
  {
   "cell_type": "code",
   "execution_count": 151,
   "metadata": {},
   "outputs": [
    {
     "data": {
      "text/html": [
       "<div>\n",
       "<style scoped>\n",
       "    .dataframe tbody tr th:only-of-type {\n",
       "        vertical-align: middle;\n",
       "    }\n",
       "\n",
       "    .dataframe tbody tr th {\n",
       "        vertical-align: top;\n",
       "    }\n",
       "\n",
       "    .dataframe thead th {\n",
       "        text-align: right;\n",
       "    }\n",
       "</style>\n",
       "<table border=\"1\" class=\"dataframe\">\n",
       "  <thead>\n",
       "    <tr style=\"text-align: right;\">\n",
       "      <th></th>\n",
       "      <th>feature</th>\n",
       "      <th>importance</th>\n",
       "    </tr>\n",
       "  </thead>\n",
       "  <tbody>\n",
       "    <tr>\n",
       "      <th>4</th>\n",
       "      <td>9</td>\n",
       "      <td>0.726901</td>\n",
       "    </tr>\n",
       "    <tr>\n",
       "      <th>3</th>\n",
       "      <td>portdst</td>\n",
       "      <td>0.271966</td>\n",
       "    </tr>\n",
       "    <tr>\n",
       "      <th>0</th>\n",
       "      <td>IPsrc</td>\n",
       "      <td>0.000910</td>\n",
       "    </tr>\n",
       "    <tr>\n",
       "      <th>2</th>\n",
       "      <td>portsrc</td>\n",
       "      <td>0.000223</td>\n",
       "    </tr>\n",
       "    <tr>\n",
       "      <th>1</th>\n",
       "      <td>IPdst</td>\n",
       "      <td>0.000000</td>\n",
       "    </tr>\n",
       "  </tbody>\n",
       "</table>\n",
       "</div>"
      ],
      "text/plain": [
       "   feature  importance\n",
       "4        9    0.726901\n",
       "3  portdst    0.271966\n",
       "0    IPsrc    0.000910\n",
       "2  portsrc    0.000223\n",
       "1    IPdst    0.000000"
      ]
     },
     "execution_count": 151,
     "metadata": {},
     "output_type": "execute_result"
    }
   ],
   "source": [
    "# combine feature importance and column names\n",
    "feature_importance = pd.DataFrame({'feature': X_train.columns, 'importance': xg_cl.feature_importances_})\n",
    "feature_importance.sort_values(by='importance', ascending=False, inplace=True)\n",
    "feature_importance\n"
   ]
  },
  {
   "cell_type": "code",
   "execution_count": 152,
   "metadata": {},
   "outputs": [
    {
     "data": {
      "text/plain": [
       "1.0    9387368\n",
       "6.0    8286422\n",
       "Name: 9, dtype: int64"
      ]
     },
     "execution_count": 152,
     "metadata": {},
     "output_type": "execute_result"
    }
   ],
   "source": [
    "X['9'].value_counts()"
   ]
  },
  {
   "attachments": {},
   "cell_type": "markdown",
   "metadata": {},
   "source": [
    "# Unsupervised learning"
   ]
  },
  {
   "cell_type": "code",
   "execution_count": 133,
   "metadata": {},
   "outputs": [
    {
     "data": {
      "text/html": [
       "<div>\n",
       "<style scoped>\n",
       "    .dataframe tbody tr th:only-of-type {\n",
       "        vertical-align: middle;\n",
       "    }\n",
       "\n",
       "    .dataframe tbody tr th {\n",
       "        vertical-align: top;\n",
       "    }\n",
       "\n",
       "    .dataframe thead th {\n",
       "        text-align: right;\n",
       "    }\n",
       "</style>\n",
       "<table border=\"1\" class=\"dataframe\">\n",
       "  <thead>\n",
       "    <tr style=\"text-align: right;\">\n",
       "      <th></th>\n",
       "      <th>timestamp</th>\n",
       "      <th>IPsrc</th>\n",
       "      <th>IPdst</th>\n",
       "      <th>proto</th>\n",
       "      <th>portsrc</th>\n",
       "      <th>portdst</th>\n",
       "      <th>rule</th>\n",
       "      <th>action</th>\n",
       "      <th>7</th>\n",
       "      <th>9</th>\n",
       "    </tr>\n",
       "  </thead>\n",
       "  <tbody>\n",
       "    <tr>\n",
       "      <th>0</th>\n",
       "      <td>2022-02-23 09:30:55</td>\n",
       "      <td>89.248.165.121</td>\n",
       "      <td>17.17.17.17</td>\n",
       "      <td>TCP</td>\n",
       "      <td>50242.0</td>\n",
       "      <td>25918.0</td>\n",
       "      <td>999.0</td>\n",
       "      <td>DENY</td>\n",
       "      <td>eth0</td>\n",
       "      <td>6.0</td>\n",
       "    </tr>\n",
       "    <tr>\n",
       "      <th>1</th>\n",
       "      <td>2022-02-23 09:30:57</td>\n",
       "      <td>159.223.115.197</td>\n",
       "      <td>17.17.17.17</td>\n",
       "      <td>TCP</td>\n",
       "      <td>47162.0</td>\n",
       "      <td>24474.0</td>\n",
       "      <td>999.0</td>\n",
       "      <td>DENY</td>\n",
       "      <td>eth0</td>\n",
       "      <td>6.0</td>\n",
       "    </tr>\n",
       "    <tr>\n",
       "      <th>2</th>\n",
       "      <td>2022-02-23 09:31:03</td>\n",
       "      <td>89.248.165.121</td>\n",
       "      <td>17.17.17.17</td>\n",
       "      <td>TCP</td>\n",
       "      <td>50242.0</td>\n",
       "      <td>23937.0</td>\n",
       "      <td>999.0</td>\n",
       "      <td>DENY</td>\n",
       "      <td>eth0</td>\n",
       "      <td>6.0</td>\n",
       "    </tr>\n",
       "    <tr>\n",
       "      <th>3</th>\n",
       "      <td>2022-02-23 09:31:09</td>\n",
       "      <td>91.240.118.73</td>\n",
       "      <td>17.17.17.17</td>\n",
       "      <td>TCP</td>\n",
       "      <td>41839.0</td>\n",
       "      <td>1996.0</td>\n",
       "      <td>999.0</td>\n",
       "      <td>DENY</td>\n",
       "      <td>eth0</td>\n",
       "      <td>6.0</td>\n",
       "    </tr>\n",
       "    <tr>\n",
       "      <th>4</th>\n",
       "      <td>2022-02-23 09:31:12</td>\n",
       "      <td>51.222.253.20</td>\n",
       "      <td>17.17.17.17</td>\n",
       "      <td>TCP</td>\n",
       "      <td>46712.0</td>\n",
       "      <td>443.0</td>\n",
       "      <td>1.0</td>\n",
       "      <td>PERMIT</td>\n",
       "      <td>eth0</td>\n",
       "      <td>6.0</td>\n",
       "    </tr>\n",
       "  </tbody>\n",
       "</table>\n",
       "</div>"
      ],
      "text/plain": [
       "            timestamp            IPsrc        IPdst proto  portsrc  portdst  \\\n",
       "0 2022-02-23 09:30:55   89.248.165.121  17.17.17.17   TCP  50242.0  25918.0   \n",
       "1 2022-02-23 09:30:57  159.223.115.197  17.17.17.17   TCP  47162.0  24474.0   \n",
       "2 2022-02-23 09:31:03   89.248.165.121  17.17.17.17   TCP  50242.0  23937.0   \n",
       "3 2022-02-23 09:31:09    91.240.118.73  17.17.17.17   TCP  41839.0   1996.0   \n",
       "4 2022-02-23 09:31:12    51.222.253.20  17.17.17.17   TCP  46712.0    443.0   \n",
       "\n",
       "    rule  action     7    9  \n",
       "0  999.0    DENY  eth0  6.0  \n",
       "1  999.0    DENY  eth0  6.0  \n",
       "2  999.0    DENY  eth0  6.0  \n",
       "3  999.0    DENY  eth0  6.0  \n",
       "4    1.0  PERMIT  eth0  6.0  "
      ]
     },
     "execution_count": 133,
     "metadata": {},
     "output_type": "execute_result"
    }
   ],
   "source": [
    "data.head(5)"
   ]
  },
  {
   "cell_type": "code",
   "execution_count": 137,
   "metadata": {},
   "outputs": [
    {
     "data": {
      "text/plain": [
       "(65534, 64755, 12)"
      ]
     },
     "execution_count": 137,
     "metadata": {},
     "output_type": "execute_result"
    }
   ],
   "source": [
    "len(data.portdst.unique()), len(data.portsrc.unique()), len(data.rule.unique())"
   ]
  },
  {
   "cell_type": "code",
   "execution_count": 154,
   "metadata": {},
   "outputs": [
    {
     "data": {
      "text/plain": [
       "(1767379, 10)"
      ]
     },
     "execution_count": 154,
     "metadata": {},
     "output_type": "execute_result"
    }
   ],
   "source": [
    "data_sample = data.sample(frac=1000, random_state=0)\n",
    "\n",
    "data_sample.shape"
   ]
  },
  {
   "cell_type": "code",
   "execution_count": 157,
   "metadata": {},
   "outputs": [
    {
     "data": {
      "text/html": [
       "<div>\n",
       "<style scoped>\n",
       "    .dataframe tbody tr th:only-of-type {\n",
       "        vertical-align: middle;\n",
       "    }\n",
       "\n",
       "    .dataframe tbody tr th {\n",
       "        vertical-align: top;\n",
       "    }\n",
       "\n",
       "    .dataframe thead th {\n",
       "        text-align: right;\n",
       "    }\n",
       "</style>\n",
       "<table border=\"1\" class=\"dataframe\">\n",
       "  <thead>\n",
       "    <tr style=\"text-align: right;\">\n",
       "      <th></th>\n",
       "      <th>IPsrc</th>\n",
       "      <th>rule</th>\n",
       "      <th>counts</th>\n",
       "    </tr>\n",
       "  </thead>\n",
       "  <tbody>\n",
       "    <tr>\n",
       "      <th>9172</th>\n",
       "      <td>109.234.162.235</td>\n",
       "      <td>555.0</td>\n",
       "      <td>937970</td>\n",
       "    </tr>\n",
       "    <tr>\n",
       "      <th>95576</th>\n",
       "      <td>51.158.121.250</td>\n",
       "      <td>1.0</td>\n",
       "      <td>30902</td>\n",
       "    </tr>\n",
       "    <tr>\n",
       "      <th>96705</th>\n",
       "      <td>52.70.240.171</td>\n",
       "      <td>1.0</td>\n",
       "      <td>23538</td>\n",
       "    </tr>\n",
       "    <tr>\n",
       "      <th>77557</th>\n",
       "      <td>23.22.35.162</td>\n",
       "      <td>1.0</td>\n",
       "      <td>23237</td>\n",
       "    </tr>\n",
       "    <tr>\n",
       "      <th>79867</th>\n",
       "      <td>3.224.220.101</td>\n",
       "      <td>1.0</td>\n",
       "      <td>22387</td>\n",
       "    </tr>\n",
       "    <tr>\n",
       "      <th>...</th>\n",
       "      <td>...</td>\n",
       "      <td>...</td>\n",
       "      <td>...</td>\n",
       "    </tr>\n",
       "    <tr>\n",
       "      <th>71711</th>\n",
       "      <td>209.141.45.116</td>\n",
       "      <td>999.0</td>\n",
       "      <td>1</td>\n",
       "    </tr>\n",
       "    <tr>\n",
       "      <th>71710</th>\n",
       "      <td>209.141.45.116</td>\n",
       "      <td>6.0</td>\n",
       "      <td>1</td>\n",
       "    </tr>\n",
       "    <tr>\n",
       "      <th>71709</th>\n",
       "      <td>209.141.44.203</td>\n",
       "      <td>6.0</td>\n",
       "      <td>1</td>\n",
       "    </tr>\n",
       "    <tr>\n",
       "      <th>71708</th>\n",
       "      <td>209.141.44.191</td>\n",
       "      <td>5.0</td>\n",
       "      <td>1</td>\n",
       "    </tr>\n",
       "    <tr>\n",
       "      <th>0</th>\n",
       "      <td>1.0.171.49</td>\n",
       "      <td>6.0</td>\n",
       "      <td>1</td>\n",
       "    </tr>\n",
       "  </tbody>\n",
       "</table>\n",
       "<p>121866 rows × 3 columns</p>\n",
       "</div>"
      ],
      "text/plain": [
       "                 IPsrc   rule  counts\n",
       "9172   109.234.162.235  555.0  937970\n",
       "95576   51.158.121.250    1.0   30902\n",
       "96705    52.70.240.171    1.0   23538\n",
       "77557     23.22.35.162    1.0   23237\n",
       "79867    3.224.220.101    1.0   22387\n",
       "...                ...    ...     ...\n",
       "71711   209.141.45.116  999.0       1\n",
       "71710   209.141.45.116    6.0       1\n",
       "71709   209.141.44.203    6.0       1\n",
       "71708   209.141.44.191    5.0       1\n",
       "0           1.0.171.49    6.0       1\n",
       "\n",
       "[121866 rows x 3 columns]"
      ]
     },
     "execution_count": 157,
     "metadata": {},
     "output_type": "execute_result"
    }
   ],
   "source": [
    "# group by IPsrc, and count the occurences of each rule\n",
    "\n",
    "data_sample.groupby(['IPsrc', 'rule']).size().reset_index(name='counts').sort_values(by='counts', ascending=False)\n",
    "\n"
   ]
  },
  {
   "cell_type": "code",
   "execution_count": 190,
   "metadata": {},
   "outputs": [],
   "source": [
    "# create function of the above\n",
    "def get_IPsrc_stats(data):\n",
    "    IPsrc_deny = data[data.action == 'DENY'].groupby('IPsrc')['IPdst'].count().sort_values(ascending=False)\n",
    "    IPsrc_deny = pd.DataFrame([IPsrc_deny.index,IPsrc_deny]).transpose()\n",
    "    IPsrc_deny.columns = ['IPsrc', 'deny_count']\n",
    "    mean_timestamp_byIP = data.groupby('IPsrc').timestamp.mean().reset_index(name='mean_timestamp').sort_values(by='mean_timestamp', ascending=False)\n",
    "    IPsrc_counts = data.groupby('IPsrc').size().reset_index(name='counts').sort_values(by='counts', ascending=False)\n",
    "    return IPsrc_deny, mean_timestamp_byIP, IPsrc_counts\n",
    "\n",
    "# create function to create df_supervised with IPsrc_deny, mean_timestamp_byIP, IPsrc_counts\n",
    "\n",
    "def create_unsupervised_df(data):\n",
    "    IPsrc_deny, mean_timestamp_byIP, IPsrc_counts = get_IPsrc_stats(data)\n",
    "    ratio = pd.merge(IPsrc_counts, IPsrc_deny, on='IPsrc')\n",
    "    ratio['ratio_deny_total'] = ratio['deny_count'] / ratio['counts']\n",
    "    df_supervised = pd.merge(IPsrc_counts, mean_timestamp_byIP, on='IPsrc')\n",
    "    df_supervised = pd.merge(df_supervised, ratio[['IPsrc','ratio_deny_total']], on='IPsrc')\n",
    "    return df_supervised\n",
    "\n"
   ]
  },
  {
   "cell_type": "code",
   "execution_count": 191,
   "metadata": {},
   "outputs": [
    {
     "data": {
      "text/html": [
       "<div>\n",
       "<style scoped>\n",
       "    .dataframe tbody tr th:only-of-type {\n",
       "        vertical-align: middle;\n",
       "    }\n",
       "\n",
       "    .dataframe tbody tr th {\n",
       "        vertical-align: top;\n",
       "    }\n",
       "\n",
       "    .dataframe thead th {\n",
       "        text-align: right;\n",
       "    }\n",
       "</style>\n",
       "<table border=\"1\" class=\"dataframe\">\n",
       "  <thead>\n",
       "    <tr style=\"text-align: right;\">\n",
       "      <th></th>\n",
       "      <th>IPsrc</th>\n",
       "      <th>counts</th>\n",
       "      <th>mean_timestamp</th>\n",
       "      <th>ratio_deny_total</th>\n",
       "    </tr>\n",
       "  </thead>\n",
       "  <tbody>\n",
       "    <tr>\n",
       "      <th>0</th>\n",
       "      <td>45.227.253.99</td>\n",
       "      <td>7419</td>\n",
       "      <td>2022-11-26 03:47:28.093139200</td>\n",
       "      <td>0.999865</td>\n",
       "    </tr>\n",
       "    <tr>\n",
       "      <th>1</th>\n",
       "      <td>198.46.189.193</td>\n",
       "      <td>6202</td>\n",
       "      <td>2023-02-28 12:34:50.847307520</td>\n",
       "      <td>0.972267</td>\n",
       "    </tr>\n",
       "    <tr>\n",
       "      <th>2</th>\n",
       "      <td>79.124.62.130</td>\n",
       "      <td>4691</td>\n",
       "      <td>2022-08-06 03:59:21.698785024</td>\n",
       "      <td>0.996376</td>\n",
       "    </tr>\n",
       "    <tr>\n",
       "      <th>3</th>\n",
       "      <td>79.124.62.82</td>\n",
       "      <td>4503</td>\n",
       "      <td>2022-08-05 20:52:37.032644864</td>\n",
       "      <td>0.996669</td>\n",
       "    </tr>\n",
       "    <tr>\n",
       "      <th>4</th>\n",
       "      <td>79.124.62.78</td>\n",
       "      <td>4460</td>\n",
       "      <td>2022-08-05 19:21:47.252242176</td>\n",
       "      <td>0.998206</td>\n",
       "    </tr>\n",
       "  </tbody>\n",
       "</table>\n",
       "</div>"
      ],
      "text/plain": [
       "            IPsrc  counts                mean_timestamp ratio_deny_total\n",
       "0   45.227.253.99    7419 2022-11-26 03:47:28.093139200         0.999865\n",
       "1  198.46.189.193    6202 2023-02-28 12:34:50.847307520         0.972267\n",
       "2   79.124.62.130    4691 2022-08-06 03:59:21.698785024         0.996376\n",
       "3    79.124.62.82    4503 2022-08-05 20:52:37.032644864         0.996669\n",
       "4    79.124.62.78    4460 2022-08-05 19:21:47.252242176         0.998206"
      ]
     },
     "execution_count": 191,
     "metadata": {},
     "output_type": "execute_result"
    }
   ],
   "source": [
    "unsupervised_df = create_unsupervised_df(data_sample)\n",
    "\n",
    "unsupervised_df.head()"
   ]
  }
 ],
 "metadata": {
  "kernelspec": {
   "display_name": "easydate",
   "language": "python",
   "name": "python3"
  },
  "language_info": {
   "codemirror_mode": {
    "name": "ipython",
    "version": 3
   },
   "file_extension": ".py",
   "mimetype": "text/x-python",
   "name": "python",
   "nbconvert_exporter": "python",
   "pygments_lexer": "ipython3",
   "version": "3.9.12"
  },
  "orig_nbformat": 4,
  "vscode": {
   "interpreter": {
    "hash": "d91c8b5161e63e7388c265ac0b5542221da923ed5ae2ffde49f9ddd8f3f83d2c"
   }
  }
 },
 "nbformat": 4,
 "nbformat_minor": 2
}
