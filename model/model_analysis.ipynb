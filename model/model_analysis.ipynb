{
 "cells": [
  {
   "cell_type": "code",
   "execution_count": 42,
   "metadata": {},
   "outputs": [],
   "source": [
    "import pandas as pd\n",
    "import numpy as np\n"
   ]
  },
  {
   "cell_type": "code",
   "execution_count": 61,
   "metadata": {},
   "outputs": [],
   "source": [
    "log_data = pd.read_csv('/Users/RICARD/Downloads/log_fw_4.csv', sep=';', header=None)"
   ]
  },
  {
   "cell_type": "code",
   "execution_count": 62,
   "metadata": {},
   "outputs": [
    {
     "name": "stdout",
     "output_type": "stream",
     "text": [
      "<class 'pandas.core.frame.DataFrame'>\n",
      "RangeIndex: 17674091 entries, 0 to 17674090\n",
      "Data columns (total 11 columns):\n",
      " #   Column  Dtype  \n",
      "---  ------  -----  \n",
      " 0   0       object \n",
      " 1   1       object \n",
      " 2   2       object \n",
      " 3   3       object \n",
      " 4   4       float64\n",
      " 5   5       float64\n",
      " 6   6       float64\n",
      " 7   7       object \n",
      " 8   8       object \n",
      " 9   9       float64\n",
      " 10  10      float64\n",
      "dtypes: float64(5), object(6)\n",
      "memory usage: 1.4+ GB\n"
     ]
    }
   ],
   "source": [
    "log_data.info()"
   ]
  },
  {
   "cell_type": "code",
   "execution_count": 63,
   "metadata": {},
   "outputs": [
    {
     "data": {
      "text/html": [
       "<div>\n",
       "<style scoped>\n",
       "    .dataframe tbody tr th:only-of-type {\n",
       "        vertical-align: middle;\n",
       "    }\n",
       "\n",
       "    .dataframe tbody tr th {\n",
       "        vertical-align: top;\n",
       "    }\n",
       "\n",
       "    .dataframe thead th {\n",
       "        text-align: right;\n",
       "    }\n",
       "</style>\n",
       "<table border=\"1\" class=\"dataframe\">\n",
       "  <thead>\n",
       "    <tr style=\"text-align: right;\">\n",
       "      <th></th>\n",
       "      <th>0</th>\n",
       "      <th>1</th>\n",
       "      <th>2</th>\n",
       "      <th>3</th>\n",
       "      <th>4</th>\n",
       "      <th>5</th>\n",
       "      <th>6</th>\n",
       "      <th>7</th>\n",
       "      <th>8</th>\n",
       "      <th>9</th>\n",
       "      <th>10</th>\n",
       "    </tr>\n",
       "  </thead>\n",
       "  <tbody>\n",
       "    <tr>\n",
       "      <th>0</th>\n",
       "      <td>2022-02-23 09:30:55</td>\n",
       "      <td>89.248.165.121</td>\n",
       "      <td>17.17.17.17</td>\n",
       "      <td>TCP</td>\n",
       "      <td>50242.0</td>\n",
       "      <td>25918.0</td>\n",
       "      <td>999.0</td>\n",
       "      <td>DENY</td>\n",
       "      <td>eth0</td>\n",
       "      <td>NaN</td>\n",
       "      <td>6.0</td>\n",
       "    </tr>\n",
       "    <tr>\n",
       "      <th>1</th>\n",
       "      <td>2022-02-23 09:30:57</td>\n",
       "      <td>159.223.115.197</td>\n",
       "      <td>17.17.17.17</td>\n",
       "      <td>TCP</td>\n",
       "      <td>47162.0</td>\n",
       "      <td>24474.0</td>\n",
       "      <td>999.0</td>\n",
       "      <td>DENY</td>\n",
       "      <td>eth0</td>\n",
       "      <td>NaN</td>\n",
       "      <td>6.0</td>\n",
       "    </tr>\n",
       "    <tr>\n",
       "      <th>2</th>\n",
       "      <td>2022-02-23 09:31:03</td>\n",
       "      <td>89.248.165.121</td>\n",
       "      <td>17.17.17.17</td>\n",
       "      <td>TCP</td>\n",
       "      <td>50242.0</td>\n",
       "      <td>23937.0</td>\n",
       "      <td>999.0</td>\n",
       "      <td>DENY</td>\n",
       "      <td>eth0</td>\n",
       "      <td>NaN</td>\n",
       "      <td>6.0</td>\n",
       "    </tr>\n",
       "    <tr>\n",
       "      <th>3</th>\n",
       "      <td>2022-02-23 09:31:09</td>\n",
       "      <td>91.240.118.73</td>\n",
       "      <td>17.17.17.17</td>\n",
       "      <td>TCP</td>\n",
       "      <td>41839.0</td>\n",
       "      <td>1996.0</td>\n",
       "      <td>999.0</td>\n",
       "      <td>DENY</td>\n",
       "      <td>eth0</td>\n",
       "      <td>NaN</td>\n",
       "      <td>6.0</td>\n",
       "    </tr>\n",
       "    <tr>\n",
       "      <th>4</th>\n",
       "      <td>2022-02-23 09:31:12</td>\n",
       "      <td>51.222.253.20</td>\n",
       "      <td>17.17.17.17</td>\n",
       "      <td>TCP</td>\n",
       "      <td>46712.0</td>\n",
       "      <td>443.0</td>\n",
       "      <td>1.0</td>\n",
       "      <td>PERMIT</td>\n",
       "      <td>eth0</td>\n",
       "      <td>NaN</td>\n",
       "      <td>6.0</td>\n",
       "    </tr>\n",
       "  </tbody>\n",
       "</table>\n",
       "</div>"
      ],
      "text/plain": [
       "                    0                1            2    3        4        5   \\\n",
       "0  2022-02-23 09:30:55   89.248.165.121  17.17.17.17  TCP  50242.0  25918.0   \n",
       "1  2022-02-23 09:30:57  159.223.115.197  17.17.17.17  TCP  47162.0  24474.0   \n",
       "2  2022-02-23 09:31:03   89.248.165.121  17.17.17.17  TCP  50242.0  23937.0   \n",
       "3  2022-02-23 09:31:09    91.240.118.73  17.17.17.17  TCP  41839.0   1996.0   \n",
       "4  2022-02-23 09:31:12    51.222.253.20  17.17.17.17  TCP  46712.0    443.0   \n",
       "\n",
       "      6       7     8   9    10  \n",
       "0  999.0    DENY  eth0 NaN  6.0  \n",
       "1  999.0    DENY  eth0 NaN  6.0  \n",
       "2  999.0    DENY  eth0 NaN  6.0  \n",
       "3  999.0    DENY  eth0 NaN  6.0  \n",
       "4    1.0  PERMIT  eth0 NaN  6.0  "
      ]
     },
     "execution_count": 63,
     "metadata": {},
     "output_type": "execute_result"
    }
   ],
   "source": [
    "log_data.head()"
   ]
  },
  {
   "cell_type": "code",
   "execution_count": 64,
   "metadata": {},
   "outputs": [
    {
     "data": {
      "text/plain": [
       "TCP    17673790\n",
       "Name: 3, dtype: int64"
      ]
     },
     "execution_count": 64,
     "metadata": {},
     "output_type": "execute_result"
    }
   ],
   "source": [
    "log_data[3].value_counts()"
   ]
  },
  {
   "cell_type": "code",
   "execution_count": 65,
   "metadata": {},
   "outputs": [],
   "source": [
    "def to_datetime(x):\n",
    "    return pd.to_datetime(x, format='%Y-%m-%d %H:%M:%S.%f')\n",
    "\n",
    "def prepare_log_data(log_data):\n",
    "    log_data.columns = ['timestamp', 'IPsrc', 'IPdst', 'proto', 'portsrc', 'portdst', 'rule','action','7', '8','9']\n",
    "    log_data.timestamp = to_datetime(log_data.timestamp)\n",
    "    log_data.portdst = log_data.portdst.astype('object')\n",
    "    return log_data"
   ]
  },
  {
   "cell_type": "code",
   "execution_count": 66,
   "metadata": {},
   "outputs": [],
   "source": [
    "data = prepare_log_data(log_data)"
   ]
  },
  {
   "cell_type": "code",
   "execution_count": 67,
   "metadata": {},
   "outputs": [
    {
     "data": {
      "text/plain": [
       "0          NaN\n",
       "1          NaN\n",
       "2          NaN\n",
       "3          NaN\n",
       "4          NaN\n",
       "            ..\n",
       "17674086   NaN\n",
       "17674087   NaN\n",
       "17674088   NaN\n",
       "17674089   NaN\n",
       "17674090   NaN\n",
       "Name: 8, Length: 17674091, dtype: float64"
      ]
     },
     "execution_count": 67,
     "metadata": {},
     "output_type": "execute_result"
    }
   ],
   "source": [
    "data.pop('8')"
   ]
  },
  {
   "cell_type": "code",
   "execution_count": 68,
   "metadata": {},
   "outputs": [
    {
     "data": {
      "text/html": [
       "<div>\n",
       "<style scoped>\n",
       "    .dataframe tbody tr th:only-of-type {\n",
       "        vertical-align: middle;\n",
       "    }\n",
       "\n",
       "    .dataframe tbody tr th {\n",
       "        vertical-align: top;\n",
       "    }\n",
       "\n",
       "    .dataframe thead th {\n",
       "        text-align: right;\n",
       "    }\n",
       "</style>\n",
       "<table border=\"1\" class=\"dataframe\">\n",
       "  <thead>\n",
       "    <tr style=\"text-align: right;\">\n",
       "      <th></th>\n",
       "      <th>timestamp</th>\n",
       "      <th>IPsrc</th>\n",
       "      <th>IPdst</th>\n",
       "      <th>proto</th>\n",
       "      <th>portsrc</th>\n",
       "      <th>portdst</th>\n",
       "      <th>rule</th>\n",
       "      <th>action</th>\n",
       "      <th>7</th>\n",
       "      <th>9</th>\n",
       "    </tr>\n",
       "  </thead>\n",
       "  <tbody>\n",
       "    <tr>\n",
       "      <th>0</th>\n",
       "      <td>2022-02-23 09:30:55</td>\n",
       "      <td>89.248.165.121</td>\n",
       "      <td>17.17.17.17</td>\n",
       "      <td>TCP</td>\n",
       "      <td>50242.0</td>\n",
       "      <td>25918.0</td>\n",
       "      <td>999.0</td>\n",
       "      <td>DENY</td>\n",
       "      <td>eth0</td>\n",
       "      <td>6.0</td>\n",
       "    </tr>\n",
       "    <tr>\n",
       "      <th>1</th>\n",
       "      <td>2022-02-23 09:30:57</td>\n",
       "      <td>159.223.115.197</td>\n",
       "      <td>17.17.17.17</td>\n",
       "      <td>TCP</td>\n",
       "      <td>47162.0</td>\n",
       "      <td>24474.0</td>\n",
       "      <td>999.0</td>\n",
       "      <td>DENY</td>\n",
       "      <td>eth0</td>\n",
       "      <td>6.0</td>\n",
       "    </tr>\n",
       "    <tr>\n",
       "      <th>2</th>\n",
       "      <td>2022-02-23 09:31:03</td>\n",
       "      <td>89.248.165.121</td>\n",
       "      <td>17.17.17.17</td>\n",
       "      <td>TCP</td>\n",
       "      <td>50242.0</td>\n",
       "      <td>23937.0</td>\n",
       "      <td>999.0</td>\n",
       "      <td>DENY</td>\n",
       "      <td>eth0</td>\n",
       "      <td>6.0</td>\n",
       "    </tr>\n",
       "    <tr>\n",
       "      <th>3</th>\n",
       "      <td>2022-02-23 09:31:09</td>\n",
       "      <td>91.240.118.73</td>\n",
       "      <td>17.17.17.17</td>\n",
       "      <td>TCP</td>\n",
       "      <td>41839.0</td>\n",
       "      <td>1996.0</td>\n",
       "      <td>999.0</td>\n",
       "      <td>DENY</td>\n",
       "      <td>eth0</td>\n",
       "      <td>6.0</td>\n",
       "    </tr>\n",
       "    <tr>\n",
       "      <th>4</th>\n",
       "      <td>2022-02-23 09:31:12</td>\n",
       "      <td>51.222.253.20</td>\n",
       "      <td>17.17.17.17</td>\n",
       "      <td>TCP</td>\n",
       "      <td>46712.0</td>\n",
       "      <td>443.0</td>\n",
       "      <td>1.0</td>\n",
       "      <td>PERMIT</td>\n",
       "      <td>eth0</td>\n",
       "      <td>6.0</td>\n",
       "    </tr>\n",
       "    <tr>\n",
       "      <th>5</th>\n",
       "      <td>2022-02-23 09:31:38</td>\n",
       "      <td>89.248.165.121</td>\n",
       "      <td>17.17.17.17</td>\n",
       "      <td>TCP</td>\n",
       "      <td>50242.0</td>\n",
       "      <td>18383.0</td>\n",
       "      <td>999.0</td>\n",
       "      <td>DENY</td>\n",
       "      <td>eth0</td>\n",
       "      <td>6.0</td>\n",
       "    </tr>\n",
       "    <tr>\n",
       "      <th>6</th>\n",
       "      <td>2022-02-23 09:31:47</td>\n",
       "      <td>89.248.165.121</td>\n",
       "      <td>17.17.17.17</td>\n",
       "      <td>TCP</td>\n",
       "      <td>50242.0</td>\n",
       "      <td>19409.0</td>\n",
       "      <td>999.0</td>\n",
       "      <td>DENY</td>\n",
       "      <td>eth0</td>\n",
       "      <td>6.0</td>\n",
       "    </tr>\n",
       "    <tr>\n",
       "      <th>7</th>\n",
       "      <td>2022-02-23 09:31:54</td>\n",
       "      <td>193.3.53.11</td>\n",
       "      <td>17.17.17.17</td>\n",
       "      <td>TCP</td>\n",
       "      <td>52274.0</td>\n",
       "      <td>2001.0</td>\n",
       "      <td>999.0</td>\n",
       "      <td>DENY</td>\n",
       "      <td>eth0</td>\n",
       "      <td>6.0</td>\n",
       "    </tr>\n",
       "    <tr>\n",
       "      <th>8</th>\n",
       "      <td>2022-02-23 09:31:55</td>\n",
       "      <td>112.85.42.15</td>\n",
       "      <td>17.17.17.17</td>\n",
       "      <td>TCP</td>\n",
       "      <td>39666.0</td>\n",
       "      <td>22.0</td>\n",
       "      <td>4.0</td>\n",
       "      <td>PERMIT</td>\n",
       "      <td>eth0</td>\n",
       "      <td>6.0</td>\n",
       "    </tr>\n",
       "    <tr>\n",
       "      <th>9</th>\n",
       "      <td>2022-02-23 09:31:55</td>\n",
       "      <td>112.85.42.15</td>\n",
       "      <td>17.17.17.17</td>\n",
       "      <td>TCP</td>\n",
       "      <td>39666.0</td>\n",
       "      <td>22.0</td>\n",
       "      <td>8.0</td>\n",
       "      <td>PERMIT</td>\n",
       "      <td>eth0</td>\n",
       "      <td>6.0</td>\n",
       "    </tr>\n",
       "  </tbody>\n",
       "</table>\n",
       "</div>"
      ],
      "text/plain": [
       "            timestamp            IPsrc        IPdst proto  portsrc  portdst  \\\n",
       "0 2022-02-23 09:30:55   89.248.165.121  17.17.17.17   TCP  50242.0  25918.0   \n",
       "1 2022-02-23 09:30:57  159.223.115.197  17.17.17.17   TCP  47162.0  24474.0   \n",
       "2 2022-02-23 09:31:03   89.248.165.121  17.17.17.17   TCP  50242.0  23937.0   \n",
       "3 2022-02-23 09:31:09    91.240.118.73  17.17.17.17   TCP  41839.0   1996.0   \n",
       "4 2022-02-23 09:31:12    51.222.253.20  17.17.17.17   TCP  46712.0    443.0   \n",
       "5 2022-02-23 09:31:38   89.248.165.121  17.17.17.17   TCP  50242.0  18383.0   \n",
       "6 2022-02-23 09:31:47   89.248.165.121  17.17.17.17   TCP  50242.0  19409.0   \n",
       "7 2022-02-23 09:31:54      193.3.53.11  17.17.17.17   TCP  52274.0   2001.0   \n",
       "8 2022-02-23 09:31:55     112.85.42.15  17.17.17.17   TCP  39666.0     22.0   \n",
       "9 2022-02-23 09:31:55     112.85.42.15  17.17.17.17   TCP  39666.0     22.0   \n",
       "\n",
       "    rule  action     7    9  \n",
       "0  999.0    DENY  eth0  6.0  \n",
       "1  999.0    DENY  eth0  6.0  \n",
       "2  999.0    DENY  eth0  6.0  \n",
       "3  999.0    DENY  eth0  6.0  \n",
       "4    1.0  PERMIT  eth0  6.0  \n",
       "5  999.0    DENY  eth0  6.0  \n",
       "6  999.0    DENY  eth0  6.0  \n",
       "7  999.0    DENY  eth0  6.0  \n",
       "8    4.0  PERMIT  eth0  6.0  \n",
       "9    8.0  PERMIT  eth0  6.0  "
      ]
     },
     "execution_count": 68,
     "metadata": {},
     "output_type": "execute_result"
    }
   ],
   "source": [
    "data.head(10)"
   ]
  },
  {
   "cell_type": "code",
   "execution_count": 69,
   "metadata": {},
   "outputs": [],
   "source": [
    "data.portsrc = data.portsrc.astype('object')"
   ]
  },
  {
   "cell_type": "code",
   "execution_count": 70,
   "metadata": {},
   "outputs": [
    {
     "data": {
      "text/plain": [
       "timestamp    datetime64[ns]\n",
       "IPsrc                object\n",
       "IPdst                object\n",
       "proto                object\n",
       "portsrc              object\n",
       "portdst              object\n",
       "rule                float64\n",
       "action               object\n",
       "7                    object\n",
       "9                   float64\n",
       "dtype: object"
      ]
     },
     "execution_count": 70,
     "metadata": {},
     "output_type": "execute_result"
    }
   ],
   "source": [
    "data.dtypes"
   ]
  },
  {
   "cell_type": "code",
   "execution_count": 71,
   "metadata": {},
   "outputs": [],
   "source": [
    "data.dropna(inplace=True)"
   ]
  },
  {
   "cell_type": "code",
   "execution_count": 72,
   "metadata": {},
   "outputs": [
    {
     "data": {
      "text/html": [
       "<div>\n",
       "<style scoped>\n",
       "    .dataframe tbody tr th:only-of-type {\n",
       "        vertical-align: middle;\n",
       "    }\n",
       "\n",
       "    .dataframe tbody tr th {\n",
       "        vertical-align: top;\n",
       "    }\n",
       "\n",
       "    .dataframe thead th {\n",
       "        text-align: right;\n",
       "    }\n",
       "</style>\n",
       "<table border=\"1\" class=\"dataframe\">\n",
       "  <thead>\n",
       "    <tr style=\"text-align: right;\">\n",
       "      <th></th>\n",
       "      <th>timestamp</th>\n",
       "      <th>IPsrc</th>\n",
       "      <th>IPdst</th>\n",
       "      <th>proto</th>\n",
       "      <th>portsrc</th>\n",
       "      <th>portdst</th>\n",
       "      <th>rule</th>\n",
       "      <th>action</th>\n",
       "      <th>7</th>\n",
       "      <th>9</th>\n",
       "    </tr>\n",
       "  </thead>\n",
       "  <tbody>\n",
       "    <tr>\n",
       "      <th>0</th>\n",
       "      <td>2022-02-23 09:30:55</td>\n",
       "      <td>89.248.165.121</td>\n",
       "      <td>17.17.17.17</td>\n",
       "      <td>TCP</td>\n",
       "      <td>50242.0</td>\n",
       "      <td>25918.0</td>\n",
       "      <td>999.0</td>\n",
       "      <td>DENY</td>\n",
       "      <td>eth0</td>\n",
       "      <td>6.0</td>\n",
       "    </tr>\n",
       "    <tr>\n",
       "      <th>1</th>\n",
       "      <td>2022-02-23 09:30:57</td>\n",
       "      <td>159.223.115.197</td>\n",
       "      <td>17.17.17.17</td>\n",
       "      <td>TCP</td>\n",
       "      <td>47162.0</td>\n",
       "      <td>24474.0</td>\n",
       "      <td>999.0</td>\n",
       "      <td>DENY</td>\n",
       "      <td>eth0</td>\n",
       "      <td>6.0</td>\n",
       "    </tr>\n",
       "    <tr>\n",
       "      <th>2</th>\n",
       "      <td>2022-02-23 09:31:03</td>\n",
       "      <td>89.248.165.121</td>\n",
       "      <td>17.17.17.17</td>\n",
       "      <td>TCP</td>\n",
       "      <td>50242.0</td>\n",
       "      <td>23937.0</td>\n",
       "      <td>999.0</td>\n",
       "      <td>DENY</td>\n",
       "      <td>eth0</td>\n",
       "      <td>6.0</td>\n",
       "    </tr>\n",
       "    <tr>\n",
       "      <th>3</th>\n",
       "      <td>2022-02-23 09:31:09</td>\n",
       "      <td>91.240.118.73</td>\n",
       "      <td>17.17.17.17</td>\n",
       "      <td>TCP</td>\n",
       "      <td>41839.0</td>\n",
       "      <td>1996.0</td>\n",
       "      <td>999.0</td>\n",
       "      <td>DENY</td>\n",
       "      <td>eth0</td>\n",
       "      <td>6.0</td>\n",
       "    </tr>\n",
       "    <tr>\n",
       "      <th>4</th>\n",
       "      <td>2022-02-23 09:31:12</td>\n",
       "      <td>51.222.253.20</td>\n",
       "      <td>17.17.17.17</td>\n",
       "      <td>TCP</td>\n",
       "      <td>46712.0</td>\n",
       "      <td>443.0</td>\n",
       "      <td>1.0</td>\n",
       "      <td>PERMIT</td>\n",
       "      <td>eth0</td>\n",
       "      <td>6.0</td>\n",
       "    </tr>\n",
       "  </tbody>\n",
       "</table>\n",
       "</div>"
      ],
      "text/plain": [
       "            timestamp            IPsrc        IPdst proto  portsrc  portdst  \\\n",
       "0 2022-02-23 09:30:55   89.248.165.121  17.17.17.17   TCP  50242.0  25918.0   \n",
       "1 2022-02-23 09:30:57  159.223.115.197  17.17.17.17   TCP  47162.0  24474.0   \n",
       "2 2022-02-23 09:31:03   89.248.165.121  17.17.17.17   TCP  50242.0  23937.0   \n",
       "3 2022-02-23 09:31:09    91.240.118.73  17.17.17.17   TCP  41839.0   1996.0   \n",
       "4 2022-02-23 09:31:12    51.222.253.20  17.17.17.17   TCP  46712.0    443.0   \n",
       "\n",
       "    rule  action     7    9  \n",
       "0  999.0    DENY  eth0  6.0  \n",
       "1  999.0    DENY  eth0  6.0  \n",
       "2  999.0    DENY  eth0  6.0  \n",
       "3  999.0    DENY  eth0  6.0  \n",
       "4    1.0  PERMIT  eth0  6.0  "
      ]
     },
     "execution_count": 72,
     "metadata": {},
     "output_type": "execute_result"
    }
   ],
   "source": [
    "data.head()"
   ]
  },
  {
   "cell_type": "code",
   "execution_count": 73,
   "metadata": {},
   "outputs": [
    {
     "name": "stdout",
     "output_type": "stream",
     "text": [
      "   portsrc  portdst   rule    9\n",
      "0  50242.0  25918.0  999.0  6.0\n",
      "1  47162.0  24474.0  999.0  6.0\n",
      "2  50242.0  23937.0  999.0  6.0\n",
      "3  41839.0   1996.0  999.0  6.0\n",
      "4  46712.0    443.0    1.0  6.0\n",
      "\n",
      "\n",
      "PERMIT    0.8469\n",
      "DENY      0.1531\n",
      "Name: action, dtype: float64\n"
     ]
    }
   ],
   "source": [
    "# get IPsrc, IPdst, portsrc, portdst, action, rule, 9 into a new dataframe\n",
    "X = data[['portsrc', 'portdst', 'rule', '9']]\n",
    "print(X.head())\n",
    "\n",
    "print('\\n')\n",
    "y = data['action']\n",
    "print(y.value_counts(normalize=True))"
   ]
  },
  {
   "cell_type": "code",
   "execution_count": 74,
   "metadata": {},
   "outputs": [
    {
     "data": {
      "text/plain": [
       "portsrc    0\n",
       "portdst    0\n",
       "rule       0\n",
       "9          0\n",
       "dtype: int64"
      ]
     },
     "execution_count": 74,
     "metadata": {},
     "output_type": "execute_result"
    }
   ],
   "source": [
    "X.isna().sum()"
   ]
  },
  {
   "cell_type": "code",
   "execution_count": 75,
   "metadata": {},
   "outputs": [],
   "source": [
    "# Train test split\n",
    "from sklearn.model_selection import train_test_split\n",
    "\n",
    "# Split data\n",
    "X_train, X_test, y_train, y_test = train_test_split(X, y, test_size=0.2, random_state=0)"
   ]
  },
  {
   "cell_type": "code",
   "execution_count": 76,
   "metadata": {},
   "outputs": [
    {
     "data": {
      "text/plain": [
       "((14139032, 4), (3534758, 4))"
      ]
     },
     "execution_count": 76,
     "metadata": {},
     "output_type": "execute_result"
    }
   ],
   "source": [
    "X_train.shape, X_test.shape"
   ]
  },
  {
   "cell_type": "code",
   "execution_count": 77,
   "metadata": {},
   "outputs": [
    {
     "data": {
      "text/plain": [
       "(PERMIT    0.846902\n",
       " DENY      0.153098\n",
       " Name: action, dtype: float64,\n",
       " PERMIT    0.846896\n",
       " DENY      0.153104\n",
       " Name: action, dtype: float64)"
      ]
     },
     "execution_count": 77,
     "metadata": {},
     "output_type": "execute_result"
    }
   ],
   "source": [
    "y_train.value_counts(normalize=True), y_test.value_counts(normalize=True)"
   ]
  },
  {
   "cell_type": "code",
   "execution_count": 31,
   "metadata": {},
   "outputs": [],
   "source": [
    "from sklearn.ensemble import RandomForestClassifier\n",
    "\n",
    "rf0 = RandomForestClassifier(n_estimators=100, random_state=0)"
   ]
  },
  {
   "cell_type": "code",
   "execution_count": 78,
   "metadata": {},
   "outputs": [],
   "source": [
    "rf0.fit(X_train, y_train)"
   ]
  },
  {
   "cell_type": "code",
   "execution_count": null,
   "metadata": {},
   "outputs": [],
   "source": [
    "# Random Forest Classifier with GridSearchCV \n",
    "from sklearn.ensemble import RandomForestClassifier\n",
    "from sklearn.model_selection import GridSearchCV\n",
    "\n",
    "# Create the parameter grid based on the results of random search\n",
    "param_grid = {\n",
    "    'bootstrap': [True],\n",
    "    'max_depth': [80, 90, 100, 110],\n",
    "    'max_features': [2, 3],\n",
    "    'min_samples_leaf': [3, 4, 5],\n",
    "    'min_samples_split': [8, 10, 12],\n",
    "    'n_estimators': [100, 200, 300, 1000]\n",
    "}\n",
    "\n",
    "# Create a based model\n",
    "rf = RandomForestClassifier()\n",
    "\n",
    "# Instantiate the grid search model\n",
    "grid_search = GridSearchCV(estimator = rf, param_grid = param_grid,\n",
    "                            cv = 3, n_jobs = -1, verbose = 2)\n",
    "\n",
    "grid_search.fit(X_train, y_train)\n"
   ]
  }
 ],
 "metadata": {
  "kernelspec": {
   "display_name": "easydate",
   "language": "python",
   "name": "python3"
  },
  "language_info": {
   "codemirror_mode": {
    "name": "ipython",
    "version": 3
   },
   "file_extension": ".py",
   "mimetype": "text/x-python",
   "name": "python",
   "nbconvert_exporter": "python",
   "pygments_lexer": "ipython3",
   "version": "3.8.8"
  },
  "orig_nbformat": 4,
  "vscode": {
   "interpreter": {
    "hash": "d91c8b5161e63e7388c265ac0b5542221da923ed5ae2ffde49f9ddd8f3f83d2c"
   }
  }
 },
 "nbformat": 4,
 "nbformat_minor": 2
}
